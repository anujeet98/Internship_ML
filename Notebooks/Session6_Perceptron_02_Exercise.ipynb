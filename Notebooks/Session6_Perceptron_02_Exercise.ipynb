{
 "cells": [
  {
   "cell_type": "markdown",
   "metadata": {},
   "source": [
    "# Exercise - Binary Classification with Perceptron\n",
    "\n",
    "Classify vehicle mileage as high or low based on two features, weight and horsepower using Perceptron model. High mileage is 1 and low mileage is 0.\n",
    "\n",
    "## Perform the following operations\n",
    "1. Plot the scatter of weight vs horsepower. The vehicles with high mileage should be in blue color and low should be in red color. Give appropriate legends. \n",
    "2. Split the data set into training and testing data set. Use the train_test_split function to get a 80:20 split, using random_state 3. Plot a bar chart of number of 1's and 0's in the training dataset. \n",
    "3. Use the perceptron model to classify the data, and get predictions for test dataset.\n",
    "4. Obtain the confusion matrix of the output.\n",
    "5. Plot the separating hyperplane on the training dataset.\n",
    "6. Consider a new test data. Weight values are 2, 3.3, 1.21, 5.32, 1.23, 4.8 and horsepower 20, 29, 13, 100, 40, 49 respectively, and mileage is 0, 0, 0, 1, 1, 1, 0. Obtain the confusion matrix for this test data. \n",
    "7. Split the original dataset with 80:20 ratio again, but with random_state 299. Get the output of steps 3, 4, 5, 6. What is the difference from the previous output?"
   ]
  },
  {
   "cell_type": "code",
   "execution_count": 32,
   "metadata": {},
   "outputs": [],
   "source": [
    "import pandas as pd\n",
    "import matplotlib.pyplot as plt"
   ]
  },
  {
   "cell_type": "code",
   "execution_count": 33,
   "metadata": {},
   "outputs": [
    {
     "data": {
      "text/html": [
       "<div>\n",
       "<style scoped>\n",
       "    .dataframe tbody tr th:only-of-type {\n",
       "        vertical-align: middle;\n",
       "    }\n",
       "\n",
       "    .dataframe tbody tr th {\n",
       "        vertical-align: top;\n",
       "    }\n",
       "\n",
       "    .dataframe thead th {\n",
       "        text-align: right;\n",
       "    }\n",
       "</style>\n",
       "<table border=\"1\" class=\"dataframe\">\n",
       "  <thead>\n",
       "    <tr style=\"text-align: right;\">\n",
       "      <th></th>\n",
       "      <th>weight</th>\n",
       "      <th>horsepower</th>\n",
       "      <th>mileage</th>\n",
       "    </tr>\n",
       "  </thead>\n",
       "  <tbody>\n",
       "    <tr>\n",
       "      <th>0</th>\n",
       "      <td>1.4000</td>\n",
       "      <td>43</td>\n",
       "      <td>1</td>\n",
       "    </tr>\n",
       "    <tr>\n",
       "      <th>1</th>\n",
       "      <td>1.5000</td>\n",
       "      <td>8</td>\n",
       "      <td>0</td>\n",
       "    </tr>\n",
       "    <tr>\n",
       "      <th>2</th>\n",
       "      <td>2.7100</td>\n",
       "      <td>44</td>\n",
       "      <td>1</td>\n",
       "    </tr>\n",
       "    <tr>\n",
       "      <th>3</th>\n",
       "      <td>3.5500</td>\n",
       "      <td>23</td>\n",
       "      <td>0</td>\n",
       "    </tr>\n",
       "    <tr>\n",
       "      <th>4</th>\n",
       "      <td>2.5000</td>\n",
       "      <td>15</td>\n",
       "      <td>0</td>\n",
       "    </tr>\n",
       "    <tr>\n",
       "      <th>5</th>\n",
       "      <td>2.9000</td>\n",
       "      <td>19</td>\n",
       "      <td>0</td>\n",
       "    </tr>\n",
       "    <tr>\n",
       "      <th>6</th>\n",
       "      <td>3.8500</td>\n",
       "      <td>112</td>\n",
       "      <td>1</td>\n",
       "    </tr>\n",
       "    <tr>\n",
       "      <th>7</th>\n",
       "      <td>3.9600</td>\n",
       "      <td>87</td>\n",
       "      <td>1</td>\n",
       "    </tr>\n",
       "    <tr>\n",
       "      <th>8</th>\n",
       "      <td>4.6200</td>\n",
       "      <td>108</td>\n",
       "      <td>1</td>\n",
       "    </tr>\n",
       "    <tr>\n",
       "      <th>9</th>\n",
       "      <td>4.7000</td>\n",
       "      <td>21</td>\n",
       "      <td>0</td>\n",
       "    </tr>\n",
       "    <tr>\n",
       "      <th>10</th>\n",
       "      <td>2.6700</td>\n",
       "      <td>34</td>\n",
       "      <td>1</td>\n",
       "    </tr>\n",
       "    <tr>\n",
       "      <th>11</th>\n",
       "      <td>2.5000</td>\n",
       "      <td>20</td>\n",
       "      <td>0</td>\n",
       "    </tr>\n",
       "    <tr>\n",
       "      <th>12</th>\n",
       "      <td>1.9320</td>\n",
       "      <td>12</td>\n",
       "      <td>0</td>\n",
       "    </tr>\n",
       "    <tr>\n",
       "      <th>13</th>\n",
       "      <td>4.8000</td>\n",
       "      <td>48</td>\n",
       "      <td>1</td>\n",
       "    </tr>\n",
       "    <tr>\n",
       "      <th>14</th>\n",
       "      <td>1.3210</td>\n",
       "      <td>32</td>\n",
       "      <td>1</td>\n",
       "    </tr>\n",
       "    <tr>\n",
       "      <th>15</th>\n",
       "      <td>1.9013</td>\n",
       "      <td>52</td>\n",
       "      <td>1</td>\n",
       "    </tr>\n",
       "    <tr>\n",
       "      <th>16</th>\n",
       "      <td>4.1300</td>\n",
       "      <td>19</td>\n",
       "      <td>0</td>\n",
       "    </tr>\n",
       "    <tr>\n",
       "      <th>17</th>\n",
       "      <td>2.8000</td>\n",
       "      <td>29</td>\n",
       "      <td>0</td>\n",
       "    </tr>\n",
       "  </tbody>\n",
       "</table>\n",
       "</div>"
      ],
      "text/plain": [
       "    weight  horsepower  mileage\n",
       "0   1.4000          43        1\n",
       "1   1.5000           8        0\n",
       "2   2.7100          44        1\n",
       "3   3.5500          23        0\n",
       "4   2.5000          15        0\n",
       "5   2.9000          19        0\n",
       "6   3.8500         112        1\n",
       "7   3.9600          87        1\n",
       "8   4.6200         108        1\n",
       "9   4.7000          21        0\n",
       "10  2.6700          34        1\n",
       "11  2.5000          20        0\n",
       "12  1.9320          12        0\n",
       "13  4.8000          48        1\n",
       "14  1.3210          32        1\n",
       "15  1.9013          52        1\n",
       "16  4.1300          19        0\n",
       "17  2.8000          29        0"
      ]
     },
     "execution_count": 33,
     "metadata": {},
     "output_type": "execute_result"
    }
   ],
   "source": [
    "from io import StringIO\n",
    "dataset =StringIO('''\n",
    "weight,horsepower,mileage\n",
    "1.4,43,1\n",
    "1.5,8,0\n",
    "2.71,44,1\n",
    "3.55,23,0\n",
    "2.5,15,0\n",
    "2.9,19,0\n",
    "3.85,112,1\n",
    "3.96,87,1\n",
    "4.62,108,1\n",
    "4.7,21,0\n",
    "2.67,34,1\n",
    "2.5,20,0\n",
    "1.932,12, 0\n",
    "4.8,48,1\n",
    "1.321,32,1\n",
    "1.9013,52,1\n",
    "4.13,19,0\n",
    "2.8,29,0\n",
    "''')\n",
    "df = pd.read_csv(dataset)\n",
    "df"
   ]
  },
  {
   "cell_type": "code",
   "execution_count": 34,
   "metadata": {},
   "outputs": [],
   "source": [
    "import matplotlib.pyplot as plt\n"
   ]
  },
  {
   "cell_type": "code",
   "execution_count": 35,
   "metadata": {},
   "outputs": [
    {
     "data": {
      "image/png": "[encoded data removed]",
      "text/plain": [
       "<Figure size 432x288 with 1 Axes>"
      ]
     },
     "metadata": {},
     "output_type": "display_data"
    }
   ],
   "source": [
    "plt.figure()\n",
    "high_mileage=df[df['mileage']==1]\n",
    "low_mileage=df[df['mileage']==0]\n",
    "plt.scatter(high_mileage['weight'],high_mileage['horsepower'],color='r',label='high_mileage')\n",
    "plt.scatter(low_mileage['weight'],low_mileage['horsepower'],label='low_mileage')    \n",
    "plt.legend()\n",
    "plt.xlabel('weight')\n",
    "plt.ylabel('horsepower')\n",
    "plt.axis()\n",
    "plt.grid()"
   ]
  },
  {
   "cell_type": "code",
   "execution_count": 36,
   "metadata": {},
   "outputs": [],
   "source": [
    "from sklearn.model_selection import train_test_split\n",
    "x_train,x_test,y_train,y_test=\\\n",
    "train_test_split(df[['weight','horsepower']],df['mileage'],test_size=0.2,random_state=3)\n"
   ]
  },
  {
   "cell_type": "code",
   "execution_count": 37,
   "metadata": {},
   "outputs": [
    {
     "data": {
      "text/plain": [
       "<matplotlib.axes._subplots.AxesSubplot at 0x246909c44e0>"
      ]
     },
     "execution_count": 37,
     "metadata": {},
     "output_type": "execute_result"
    },
    {
     "data": {
      "image/png": "[encoded data removed]",
      "text/plain": [
       "<Figure size 432x288 with 1 Axes>"
      ]
     },
     "metadata": {},
     "output_type": "display_data"
    }
   ],
   "source": [
    "y_train.value_counts().plot(kind='bar')"
   ]
  },
  {
   "cell_type": "code",
   "execution_count": 50,
   "metadata": {},
   "outputs": [
    {
     "data": {
      "text/html": [
       "<div>\n",
       "<style scoped>\n",
       "    .dataframe tbody tr th:only-of-type {\n",
       "        vertical-align: middle;\n",
       "    }\n",
       "\n",
       "    .dataframe tbody tr th {\n",
       "        vertical-align: top;\n",
       "    }\n",
       "\n",
       "    .dataframe thead th {\n",
       "        text-align: right;\n",
       "    }\n",
       "</style>\n",
       "<table border=\"1\" class=\"dataframe\">\n",
       "  <thead>\n",
       "    <tr style=\"text-align: right;\">\n",
       "      <th></th>\n",
       "      <th>weight</th>\n",
       "      <th>horsepower</th>\n",
       "      <th>mileage</th>\n",
       "    </tr>\n",
       "  </thead>\n",
       "  <tbody>\n",
       "    <tr>\n",
       "      <th>0</th>\n",
       "      <td>1.40</td>\n",
       "      <td>43</td>\n",
       "      <td>1</td>\n",
       "    </tr>\n",
       "    <tr>\n",
       "      <th>1</th>\n",
       "      <td>1.50</td>\n",
       "      <td>8</td>\n",
       "      <td>0</td>\n",
       "    </tr>\n",
       "    <tr>\n",
       "      <th>2</th>\n",
       "      <td>2.71</td>\n",
       "      <td>44</td>\n",
       "      <td>1</td>\n",
       "    </tr>\n",
       "    <tr>\n",
       "      <th>3</th>\n",
       "      <td>3.55</td>\n",
       "      <td>23</td>\n",
       "      <td>0</td>\n",
       "    </tr>\n",
       "    <tr>\n",
       "      <th>4</th>\n",
       "      <td>2.50</td>\n",
       "      <td>15</td>\n",
       "      <td>0</td>\n",
       "    </tr>\n",
       "  </tbody>\n",
       "</table>\n",
       "</div>"
      ],
      "text/plain": [
       "   weight  horsepower  mileage\n",
       "0    1.40          43        1\n",
       "1    1.50           8        0\n",
       "2    2.71          44        1\n",
       "3    3.55          23        0\n",
       "4    2.50          15        0"
      ]
     },
     "execution_count": 50,
     "metadata": {},
     "output_type": "execute_result"
    }
   ],
   "source": [
    "\n",
    "from sklearn.linear_model import Perceptron\n",
    "\n",
    "classifier=Perceptron(max_iter=1000)\n",
    "model=classifier.fit(x_train,y_train)\n",
    "df.head()"
   ]
  },
  {
   "cell_type": "code",
   "execution_count": 39,
   "metadata": {},
   "outputs": [
    {
     "name": "stdout",
     "output_type": "stream",
     "text": [
      "obtained prediction [0 1 0 1]\n",
      "actual prediction [0, 1, 0, 1]\n"
     ]
    }
   ],
   "source": [
    "prediction=model.predict(x_test)\n",
    "print('obtained prediction',prediction)\n",
    "print('actual prediction',y_test.tolist())"
   ]
  },
  {
   "cell_type": "code",
   "execution_count": 40,
   "metadata": {},
   "outputs": [
    {
     "data": {
      "text/plain": [
       "array([[2, 0],\n",
       "       [0, 2]], dtype=int64)"
      ]
     },
     "execution_count": 40,
     "metadata": {},
     "output_type": "execute_result"
    }
   ],
   "source": [
    "from sklearn import metrics\n",
    "metrics.confusion_matrix(y_test,prediction)"
   ]
  },
  {
   "cell_type": "code",
   "execution_count": 41,
   "metadata": {},
   "outputs": [],
   "source": [
    "import seaborn as sb"
   ]
  },
  {
   "cell_type": "code",
   "execution_count": 42,
   "metadata": {},
   "outputs": [
    {
     "data": {
      "text/plain": [
       "<matplotlib.axes._subplots.AxesSubplot at 0x246909496a0>"
      ]
     },
     "execution_count": 42,
     "metadata": {},
     "output_type": "execute_result"
    },
    {
     "data": {
      "image/png": "[encoded data removed]",
      "text/plain": [
       "<Figure size 432x288 with 2 Axes>"
      ]
     },
     "metadata": {},
     "output_type": "display_data"
    }
   ],
   "source": [
    "sb.heatmap(metrics.confusion_matrix(y_test,prediction),annot=True,fmt='.1f')"
   ]
  },
  {
   "cell_type": "code",
   "execution_count": 43,
   "metadata": {},
   "outputs": [
    {
     "name": "stdout",
     "output_type": "stream",
     "text": [
      "[[0.   0.01 0.02 ... 4.97 4.98 4.99]\n",
      " [0.   0.01 0.02 ... 4.97 4.98 4.99]\n",
      " [0.   0.01 0.02 ... 4.97 4.98 4.99]\n",
      " ...\n",
      " [0.   0.01 0.02 ... 4.97 4.98 4.99]\n",
      " [0.   0.01 0.02 ... 4.97 4.98 4.99]\n",
      " [0.   0.01 0.02 ... 4.97 4.98 4.99]]\n",
      "[[0.0000e+00 0.0000e+00 0.0000e+00 ... 0.0000e+00 0.0000e+00 0.0000e+00]\n",
      " [1.0000e-02 1.0000e-02 1.0000e-02 ... 1.0000e-02 1.0000e-02 1.0000e-02]\n",
      " [2.0000e-02 2.0000e-02 2.0000e-02 ... 2.0000e-02 2.0000e-02 2.0000e-02]\n",
      " ...\n",
      " [1.1997e+02 1.1997e+02 1.1997e+02 ... 1.1997e+02 1.1997e+02 1.1997e+02]\n",
      " [1.1998e+02 1.1998e+02 1.1998e+02 ... 1.1998e+02 1.1998e+02 1.1998e+02]\n",
      " [1.1999e+02 1.1999e+02 1.1999e+02 ... 1.1999e+02 1.1999e+02 1.1999e+02]]\n",
      "[0.   0.01 0.02 0.03 0.04 0.05 0.06 0.07 0.08 0.09]\n",
      "[0. 0. 0. 0. 0. 0. 0. 0. 0. 0.]\n",
      "[[0.   0.  ]\n",
      " [0.01 0.  ]\n",
      " [0.02 0.  ]\n",
      " [0.03 0.  ]\n",
      " [0.04 0.  ]\n",
      " [0.05 0.  ]\n",
      " [0.06 0.  ]\n",
      " [0.07 0.  ]\n",
      " [0.08 0.  ]\n",
      " [0.09 0.  ]\n",
      " [0.1  0.  ]\n",
      " [0.11 0.  ]\n",
      " [0.12 0.  ]\n",
      " [0.13 0.  ]\n",
      " [0.14 0.  ]\n",
      " [0.15 0.  ]\n",
      " [0.16 0.  ]\n",
      " [0.17 0.  ]\n",
      " [0.18 0.  ]\n",
      " [0.19 0.  ]]\n",
      "[0 0 0 ... 1 1 1]\n",
      "[[0 0 0 ... 0 0 0]\n",
      " [0 0 0 ... 0 0 0]\n",
      " [0 0 0 ... 0 0 0]\n",
      " ...\n",
      " [1 1 1 ... 1 1 1]\n",
      " [1 1 1 ... 1 1 1]\n",
      " [1 1 1 ... 1 1 1]]\n"
     ]
    },
    {
     "data": {
      "image/png": "[encoded data removed]",
      "text/plain": [
       "<Figure size 432x288 with 1 Axes>"
      ]
     },
     "metadata": {},
     "output_type": "display_data"
    }
   ],
   "source": [
    "import numpy as np\n",
    "x_train_high_mileage=x_train[y_train==1]\n",
    "x_train_low_mileage=x_train[y_train==0]\n",
    "x_min,x_max=0,5#minimum x/y is 0 and maximum x/y is1\n",
    "y_min,y_max=0,120\n",
    "\n",
    "xx,yy=np.meshgrid(np.arange(x_min,x_max, .01),np.arange(y_min,y_max, .01))\n",
    "#storing xx ,yy with 0.2 step in every range\n",
    "\n",
    "print(xx); print(yy);\n",
    "xx_lin=xx.ravel(); print(xx_lin[:10]); #ravel converts table of array into series snd stores in xx_lin\n",
    "yy_lin=yy.ravel(); print(yy_lin[:10]); #ravel converts table of array into series\n",
    "pred_input=np.c_[xx_lin,yy_lin];print(pred_input[:20])#np.c combines each xx_lin value with corresponding yy_lin and stores into pred_input\n",
    "\n",
    "z=model.predict(pred_input);print(z)#passing each table row of pred_input to predict and store in z,it gives a series of true/false values\n",
    "z=z.reshape(xx.shape);print(z)#converting z from series to table of xx shape ie 25 rows and 5 columns\n",
    "\n",
    "#contour plot requires 2 dimensional matrix\n",
    "plt.contourf(xx,yy,z,cmap=plt.cm.Pastel1)\n",
    "#input to contourf is 3 ie xx ,yy and z(where to plot true and where to plot false),cmap is from matplotlib it has 2 colours in pastel1 0for hagih value color and 1 for low valued color\n",
    "\n",
    "plt.scatter(x_train_high_mileage['weight'],x_train_high_mileage['horsepower'],color='b',label='high_mileage')\n",
    "plt.scatter(x_train_low_mileage['weight'],x_train_low_mileage['horsepower'],color='r',label='low_mileage')\n",
    "\n",
    "plt.axis()\n",
    "plt.grid()"
   ]
  },
  {
   "cell_type": "code",
   "execution_count": 44,
   "metadata": {},
   "outputs": [
    {
     "data": {
      "text/html": [
       "<div>\n",
       "<style scoped>\n",
       "    .dataframe tbody tr th:only-of-type {\n",
       "        vertical-align: middle;\n",
       "    }\n",
       "\n",
       "    .dataframe tbody tr th {\n",
       "        vertical-align: top;\n",
       "    }\n",
       "\n",
       "    .dataframe thead th {\n",
       "        text-align: right;\n",
       "    }\n",
       "</style>\n",
       "<table border=\"1\" class=\"dataframe\">\n",
       "  <thead>\n",
       "    <tr style=\"text-align: right;\">\n",
       "      <th></th>\n",
       "      <th>weight</th>\n",
       "      <th>horsepower</th>\n",
       "      <th>mileage</th>\n",
       "    </tr>\n",
       "  </thead>\n",
       "  <tbody>\n",
       "    <tr>\n",
       "      <th>0</th>\n",
       "      <td>2.00</td>\n",
       "      <td>20</td>\n",
       "      <td>0</td>\n",
       "    </tr>\n",
       "    <tr>\n",
       "      <th>1</th>\n",
       "      <td>3.30</td>\n",
       "      <td>29</td>\n",
       "      <td>0</td>\n",
       "    </tr>\n",
       "    <tr>\n",
       "      <th>2</th>\n",
       "      <td>1.21</td>\n",
       "      <td>13</td>\n",
       "      <td>0</td>\n",
       "    </tr>\n",
       "    <tr>\n",
       "      <th>3</th>\n",
       "      <td>5.32</td>\n",
       "      <td>100</td>\n",
       "      <td>1</td>\n",
       "    </tr>\n",
       "    <tr>\n",
       "      <th>4</th>\n",
       "      <td>1.23</td>\n",
       "      <td>40</td>\n",
       "      <td>1</td>\n",
       "    </tr>\n",
       "  </tbody>\n",
       "</table>\n",
       "</div>"
      ],
      "text/plain": [
       "   weight  horsepower  mileage\n",
       "0    2.00          20        0\n",
       "1    3.30          29        0\n",
       "2    1.21          13        0\n",
       "3    5.32         100        1\n",
       "4    1.23          40        1"
      ]
     },
     "execution_count": 44,
     "metadata": {},
     "output_type": "execute_result"
    }
   ],
   "source": [
    "from io import StringIO\n",
    "new_dataset =StringIO('''\n",
    "weight,horsepower,mileage\n",
    "2,20,0\n",
    "3.3,29,0\n",
    "1.21,13,0\n",
    "5.32,100,1\n",
    "1.23,40,1\n",
    "4.8,49,1\n",
    "''')\n",
    "af = pd.read_csv(new_dataset)\n",
    "af.head()"
   ]
  },
  {
   "cell_type": "code",
   "execution_count": 45,
   "metadata": {},
   "outputs": [
    {
     "data": {
      "text/plain": [
       "array([[3, 0],\n",
       "       [0, 3]], dtype=int64)"
      ]
     },
     "execution_count": 45,
     "metadata": {},
     "output_type": "execute_result"
    }
   ],
   "source": [
    "from sklearn import metrics\n",
    "prediction=model.predict(af[['weight','horsepower']])\n",
    "metrics.confusion_matrix(af['mileage'],prediction)"
   ]
  },
  {
   "cell_type": "code",
   "execution_count": 52,
   "metadata": {},
   "outputs": [],
   "source": [
    "from sklearn.model_selection import train_test_split\n",
    "x_train,x_test,y_train,y_test=\\\n",
    "train_test_split(df[['weight','horsepower']],df['mileage'],test_size=0.2,random_state=299)"
   ]
  },
  {
   "cell_type": "code",
   "execution_count": 53,
   "metadata": {},
   "outputs": [
    {
     "data": {
      "text/html": [
       "<div>\n",
       "<style scoped>\n",
       "    .dataframe tbody tr th:only-of-type {\n",
       "        vertical-align: middle;\n",
       "    }\n",
       "\n",
       "    .dataframe tbody tr th {\n",
       "        vertical-align: top;\n",
       "    }\n",
       "\n",
       "    .dataframe thead th {\n",
       "        text-align: right;\n",
       "    }\n",
       "</style>\n",
       "<table border=\"1\" class=\"dataframe\">\n",
       "  <thead>\n",
       "    <tr style=\"text-align: right;\">\n",
       "      <th></th>\n",
       "      <th>weight</th>\n",
       "      <th>horsepower</th>\n",
       "      <th>mileage</th>\n",
       "    </tr>\n",
       "  </thead>\n",
       "  <tbody>\n",
       "    <tr>\n",
       "      <th>0</th>\n",
       "      <td>1.4000</td>\n",
       "      <td>43</td>\n",
       "      <td>1</td>\n",
       "    </tr>\n",
       "    <tr>\n",
       "      <th>1</th>\n",
       "      <td>1.5000</td>\n",
       "      <td>8</td>\n",
       "      <td>0</td>\n",
       "    </tr>\n",
       "    <tr>\n",
       "      <th>2</th>\n",
       "      <td>2.7100</td>\n",
       "      <td>44</td>\n",
       "      <td>1</td>\n",
       "    </tr>\n",
       "    <tr>\n",
       "      <th>3</th>\n",
       "      <td>3.5500</td>\n",
       "      <td>23</td>\n",
       "      <td>0</td>\n",
       "    </tr>\n",
       "    <tr>\n",
       "      <th>4</th>\n",
       "      <td>2.5000</td>\n",
       "      <td>15</td>\n",
       "      <td>0</td>\n",
       "    </tr>\n",
       "    <tr>\n",
       "      <th>5</th>\n",
       "      <td>2.9000</td>\n",
       "      <td>19</td>\n",
       "      <td>0</td>\n",
       "    </tr>\n",
       "    <tr>\n",
       "      <th>6</th>\n",
       "      <td>3.8500</td>\n",
       "      <td>112</td>\n",
       "      <td>1</td>\n",
       "    </tr>\n",
       "    <tr>\n",
       "      <th>7</th>\n",
       "      <td>3.9600</td>\n",
       "      <td>87</td>\n",
       "      <td>1</td>\n",
       "    </tr>\n",
       "    <tr>\n",
       "      <th>8</th>\n",
       "      <td>4.6200</td>\n",
       "      <td>108</td>\n",
       "      <td>1</td>\n",
       "    </tr>\n",
       "    <tr>\n",
       "      <th>9</th>\n",
       "      <td>4.7000</td>\n",
       "      <td>21</td>\n",
       "      <td>0</td>\n",
       "    </tr>\n",
       "    <tr>\n",
       "      <th>10</th>\n",
       "      <td>2.6700</td>\n",
       "      <td>34</td>\n",
       "      <td>1</td>\n",
       "    </tr>\n",
       "    <tr>\n",
       "      <th>11</th>\n",
       "      <td>2.5000</td>\n",
       "      <td>20</td>\n",
       "      <td>0</td>\n",
       "    </tr>\n",
       "    <tr>\n",
       "      <th>12</th>\n",
       "      <td>1.9320</td>\n",
       "      <td>12</td>\n",
       "      <td>0</td>\n",
       "    </tr>\n",
       "    <tr>\n",
       "      <th>13</th>\n",
       "      <td>4.8000</td>\n",
       "      <td>48</td>\n",
       "      <td>1</td>\n",
       "    </tr>\n",
       "    <tr>\n",
       "      <th>14</th>\n",
       "      <td>1.3210</td>\n",
       "      <td>32</td>\n",
       "      <td>1</td>\n",
       "    </tr>\n",
       "    <tr>\n",
       "      <th>15</th>\n",
       "      <td>1.9013</td>\n",
       "      <td>52</td>\n",
       "      <td>1</td>\n",
       "    </tr>\n",
       "    <tr>\n",
       "      <th>16</th>\n",
       "      <td>4.1300</td>\n",
       "      <td>19</td>\n",
       "      <td>0</td>\n",
       "    </tr>\n",
       "    <tr>\n",
       "      <th>17</th>\n",
       "      <td>2.8000</td>\n",
       "      <td>29</td>\n",
       "      <td>0</td>\n",
       "    </tr>\n",
       "  </tbody>\n",
       "</table>\n",
       "</div>"
      ],
      "text/plain": [
       "    weight  horsepower  mileage\n",
       "0   1.4000          43        1\n",
       "1   1.5000           8        0\n",
       "2   2.7100          44        1\n",
       "3   3.5500          23        0\n",
       "4   2.5000          15        0\n",
       "5   2.9000          19        0\n",
       "6   3.8500         112        1\n",
       "7   3.9600          87        1\n",
       "8   4.6200         108        1\n",
       "9   4.7000          21        0\n",
       "10  2.6700          34        1\n",
       "11  2.5000          20        0\n",
       "12  1.9320          12        0\n",
       "13  4.8000          48        1\n",
       "14  1.3210          32        1\n",
       "15  1.9013          52        1\n",
       "16  4.1300          19        0\n",
       "17  2.8000          29        0"
      ]
     },
     "execution_count": 53,
     "metadata": {},
     "output_type": "execute_result"
    }
   ],
   "source": [
    "from sklearn.linear_model import Perceptron\n",
    "\n",
    "classifier=Perceptron(max_iter=1000)\n",
    "model=classifier.fit(x_train,y_train)\n",
    "df"
   ]
  },
  {
   "cell_type": "code",
   "execution_count": 54,
   "metadata": {},
   "outputs": [
    {
     "data": {
      "text/plain": [
       "array([[1, 0],\n",
       "       [1, 2]], dtype=int64)"
      ]
     },
     "execution_count": 54,
     "metadata": {},
     "output_type": "execute_result"
    }
   ],
   "source": [
    "from sklearn import metrics\n",
    "prediction=model.predict(x_test)\n",
    "metrics.confusion_matrix(y_test,prediction)"
   ]
  },
  {
   "cell_type": "code",
   "execution_count": 55,
   "metadata": {},
   "outputs": [
    {
     "name": "stdout",
     "output_type": "stream",
     "text": [
      "[[0.   0.01 0.02 ... 4.97 4.98 4.99]\n",
      " [0.   0.01 0.02 ... 4.97 4.98 4.99]\n",
      " [0.   0.01 0.02 ... 4.97 4.98 4.99]\n",
      " ...\n",
      " [0.   0.01 0.02 ... 4.97 4.98 4.99]\n",
      " [0.   0.01 0.02 ... 4.97 4.98 4.99]\n",
      " [0.   0.01 0.02 ... 4.97 4.98 4.99]]\n",
      "[[0.0000e+00 0.0000e+00 0.0000e+00 ... 0.0000e+00 0.0000e+00 0.0000e+00]\n",
      " [1.0000e-02 1.0000e-02 1.0000e-02 ... 1.0000e-02 1.0000e-02 1.0000e-02]\n",
      " [2.0000e-02 2.0000e-02 2.0000e-02 ... 2.0000e-02 2.0000e-02 2.0000e-02]\n",
      " ...\n",
      " [1.2997e+02 1.2997e+02 1.2997e+02 ... 1.2997e+02 1.2997e+02 1.2997e+02]\n",
      " [1.2998e+02 1.2998e+02 1.2998e+02 ... 1.2998e+02 1.2998e+02 1.2998e+02]\n",
      " [1.2999e+02 1.2999e+02 1.2999e+02 ... 1.2999e+02 1.2999e+02 1.2999e+02]]\n",
      "[0.   0.01 0.02 0.03 0.04 0.05 0.06 0.07 0.08 0.09]\n",
      "[0. 0. 0. 0. 0. 0. 0. 0. 0. 0.]\n",
      "[[0.   0.  ]\n",
      " [0.01 0.  ]\n",
      " [0.02 0.  ]\n",
      " [0.03 0.  ]\n",
      " [0.04 0.  ]\n",
      " [0.05 0.  ]\n",
      " [0.06 0.  ]\n",
      " [0.07 0.  ]\n",
      " [0.08 0.  ]\n",
      " [0.09 0.  ]\n",
      " [0.1  0.  ]\n",
      " [0.11 0.  ]\n",
      " [0.12 0.  ]\n",
      " [0.13 0.  ]\n",
      " [0.14 0.  ]\n",
      " [0.15 0.  ]\n",
      " [0.16 0.  ]\n",
      " [0.17 0.  ]\n",
      " [0.18 0.  ]\n",
      " [0.19 0.  ]]\n",
      "[0 0 0 ... 1 1 1]\n",
      "[[0 0 0 ... 0 0 0]\n",
      " [0 0 0 ... 0 0 0]\n",
      " [0 0 0 ... 0 0 0]\n",
      " ...\n",
      " [1 1 1 ... 1 1 1]\n",
      " [1 1 1 ... 1 1 1]\n",
      " [1 1 1 ... 1 1 1]]\n"
     ]
    },
    {
     "data": {
      "image/png": "[encoded data removed]",
      "text/plain": [
       "<Figure size 432x288 with 1 Axes>"
      ]
     },
     "metadata": {},
     "output_type": "display_data"
    }
   ],
   "source": [
    "import numpy as np\n",
    "xnew_train_high_mileage=x_train[y_train==1]\n",
    "xnew_train_low_mileage=x_train[y_train==0]\n",
    "x_min,x_max=0,5#minimum x/y is 0 and maximum x/y is1\n",
    "y_min,y_max=0,130\n",
    "\n",
    "xx,yy=np.meshgrid(np.arange(x_min,x_max, .01),np.arange(y_min,y_max, .01))\n",
    "#storing xx ,yy with 0.2 step in every range\n",
    "\n",
    "print(xx); print(yy);\n",
    "xx_lin=xx.ravel(); print(xx_lin[:10]); #ravel converts table of array into series snd stores in xx_lin\n",
    "yy_lin=yy.ravel(); print(yy_lin[:10]); #ravel converts table of array into series\n",
    "pred_input=np.c_[xx_lin,yy_lin];print(pred_input[:20])#np.c combines each xx_lin value with corresponding yy_lin and stores into pred_input\n",
    "\n",
    "z=model.predict(pred_input);print(z)#passing each table row of pred_input to predict and store in z,it gives a series of true/false values\n",
    "z=z.reshape(xx.shape);print(z)#converting z from series to table of xx shape ie 25 rows and 5 columns\n",
    "\n",
    "#contour plot requires 2 dimensional matrix\n",
    "plt.contourf(xx,yy,z,cmap=plt.cm.Pastel1)\n",
    "#input to contourf is 3 ie xx ,yy and z(where to plot true and where to plot false),cmap is from matplotlib it has 2 colours in pastel1 0for hagih value color and 1 for low valued color\n",
    "\n",
    "plt.scatter(x_train_high_mileage['weight'],x_train_high_mileage['horsepower'],color='b',label='high_mileage')\n",
    "plt.scatter(x_train_low_mileage['weight'],x_train_low_mileage['horsepower'],color='r',label='low_mileage')\n",
    "\n",
    "plt.axis()\n",
    "plt.grid()"
   ]
  },
  {
   "cell_type": "code",
   "execution_count": null,
   "metadata": {},
   "outputs": [],
   "source": []
  },
  {
   "cell_type": "code",
   "execution_count": null,
   "metadata": {},
   "outputs": [],
   "source": []
  },
  {
   "cell_type": "code",
   "execution_count": null,
   "metadata": {},
   "outputs": [],
   "source": []
  }
 ],
 "metadata": {
  "kernelspec": {
   "display_name": "Python 3",
   "language": "python",
   "name": "python3"
  },
  "language_info": {
   "codemirror_mode": {
    "name": "ipython",
    "version": 3
   },
   "file_extension": ".py",
   "mimetype": "text/x-python",
   "name": "python",
   "nbconvert_exporter": "python",
   "pygments_lexer": "ipython3",
   "version": "3.6.5"
  }
 },
 "nbformat": 4,
 "nbformat_minor": 2
}
