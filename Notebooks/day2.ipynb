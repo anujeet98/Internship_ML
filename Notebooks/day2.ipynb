{
 "cells": [
  {
   "cell_type": "code",
   "execution_count": 1,
   "metadata": {},
   "outputs": [
    {
     "name": "stdout",
     "output_type": "stream",
     "text": [
      "3.6.5 (v3.6.5:f59c0932b4, Mar 28 2018, 17:00:18) [MSC v.1900 64 bit (AMD64)]\n"
     ]
    }
   ],
   "source": [
    "import sys\n",
    "print(sys.version)"
   ]
  },
  {
   "cell_type": "markdown",
   "metadata": {},
   "source": [
    "# for loops"
   ]
  },
  {
   "cell_type": "code",
   "execution_count": 2,
   "metadata": {},
   "outputs": [
    {
     "name": "stdout",
     "output_type": "stream",
     "text": [
      "[0, 1, 2, 3, 4, 5, 6, 7, 8, 9]\n"
     ]
    }
   ],
   "source": [
    "mylist=list(range(0,10))\n",
    "print(mylist)"
   ]
  },
  {
   "cell_type": "code",
   "execution_count": 3,
   "metadata": {},
   "outputs": [
    {
     "name": "stdout",
     "output_type": "stream",
     "text": [
      "[0, 1, 4, 9, 16, 25, 36, 49, 64, 81]\n"
     ]
    }
   ],
   "source": [
    "mylist_square=[]\n",
    "for everyval in mylist:\n",
    "    mylist_square.append(everyval**2)\n",
    "print(mylist_square)    "
   ]
  },
  {
   "cell_type": "markdown",
   "metadata": {},
   "source": [
    "# remove element from list"
   ]
  },
  {
   "cell_type": "code",
   "execution_count": 4,
   "metadata": {},
   "outputs": [
    {
     "data": {
      "text/plain": [
       "[0, 1, 2, 3, 4, 5, 6, 7, 8]"
      ]
     },
     "execution_count": 4,
     "metadata": {},
     "output_type": "execute_result"
    }
   ],
   "source": [
    "mylist.pop()\n",
    "mylist"
   ]
  },
  {
   "cell_type": "code",
   "execution_count": 5,
   "metadata": {},
   "outputs": [
    {
     "data": {
      "text/plain": [
       "[0, 1, 2, 3, 4, 5, 6, 7]"
      ]
     },
     "execution_count": 5,
     "metadata": {},
     "output_type": "execute_result"
    }
   ],
   "source": [
    "mylist.remove(8)\n",
    "mylist"
   ]
  },
  {
   "cell_type": "code",
   "execution_count": 6,
   "metadata": {},
   "outputs": [
    {
     "data": {
      "text/plain": [
       "[10, 11]"
      ]
     },
     "execution_count": 6,
     "metadata": {},
     "output_type": "execute_result"
    }
   ],
   "source": [
    "a=[10,10,11]\n",
    "a.remove(10)\n",
    "a"
   ]
  },
  {
   "cell_type": "markdown",
   "metadata": {},
   "source": [
    "# dense coding ;list comprehension"
   ]
  },
  {
   "cell_type": "code",
   "execution_count": 7,
   "metadata": {},
   "outputs": [
    {
     "name": "stdout",
     "output_type": "stream",
     "text": [
      "[100, 121, 144, 169, 196, 225, 256, 289, 324, 361]\n"
     ]
    }
   ],
   "source": [
    "mylist2=(list(range(10,20)))\n",
    "mylist2_sq=[everyval**2 for everyval in mylist2]\n",
    "print(mylist2_sq)"
   ]
  },
  {
   "cell_type": "code",
   "execution_count": 8,
   "metadata": {},
   "outputs": [
    {
     "name": "stdout",
     "output_type": "stream",
     "text": [
      "[121, 169, 225, 289, 361]\n"
     ]
    }
   ],
   "source": [
    "mylist2_odd_sq=[]\n",
    "for everyval in mylist2:\n",
    "    if(everyval%2 != 0):\n",
    "        mylist2_odd_sq.append(everyval**2)\n",
    "print(mylist2_odd_sq)"
   ]
  },
  {
   "cell_type": "code",
   "execution_count": 9,
   "metadata": {},
   "outputs": [
    {
     "name": "stdout",
     "output_type": "stream",
     "text": [
      "[121, 169, 225, 289, 361]\n"
     ]
    }
   ],
   "source": [
    "mylist2_odd_sq=[]\n",
    "mylist2_odd_sq=[everyval**2 for everyval in mylist2 if everyval%2 != 0]\n",
    "print(mylist2_odd_sq)"
   ]
  },
  {
   "cell_type": "markdown",
   "metadata": {},
   "source": [
    "# game"
   ]
  },
  {
   "cell_type": "code",
   "execution_count": 10,
   "metadata": {},
   "outputs": [
    {
     "name": "stdout",
     "output_type": "stream",
     "text": [
      "enter number:N\n"
     ]
    },
    {
     "ename": "ValueError",
     "evalue": "invalid literal for int() with base 10: 'N'",
     "output_type": "error",
     "traceback": [
      "\u001b[1;31m---------------------------------------------------------------------------\u001b[0m",
      "\u001b[1;31mValueError\u001b[0m                                Traceback (most recent call last)",
      "\u001b[1;32m<ipython-input-10-25de15d288b4>\u001b[0m in \u001b[0;36m<module>\u001b[1;34m()\u001b[0m\n\u001b[0;32m      6\u001b[0m     \u001b[0mchance\u001b[0m\u001b[1;33m=\u001b[0m\u001b[1;36m0\u001b[0m\u001b[1;33m\u001b[0m\u001b[0m\n\u001b[0;32m      7\u001b[0m     \u001b[1;32mwhile\u001b[0m\u001b[1;33m(\u001b[0m\u001b[0ma\u001b[0m\u001b[1;33m!=\u001b[0m\u001b[0mb\u001b[0m \u001b[1;32mand\u001b[0m \u001b[0mchance\u001b[0m\u001b[1;33m!=\u001b[0m\u001b[1;36m3\u001b[0m\u001b[1;33m)\u001b[0m\u001b[1;33m:\u001b[0m\u001b[1;33m\u001b[0m\u001b[0m\n\u001b[1;32m----> 8\u001b[1;33m         \u001b[0mb\u001b[0m\u001b[1;33m=\u001b[0m\u001b[0mint\u001b[0m\u001b[1;33m(\u001b[0m\u001b[0minput\u001b[0m\u001b[1;33m(\u001b[0m\u001b[1;34m\"enter number:\"\u001b[0m\u001b[1;33m)\u001b[0m\u001b[1;33m)\u001b[0m\u001b[1;33m\u001b[0m\u001b[0m\n\u001b[0m\u001b[0;32m      9\u001b[0m         \u001b[1;32mif\u001b[0m\u001b[1;33m(\u001b[0m\u001b[0ma\u001b[0m\u001b[1;33m<\u001b[0m\u001b[0mb\u001b[0m\u001b[1;33m)\u001b[0m\u001b[1;33m:\u001b[0m\u001b[1;33m\u001b[0m\u001b[0m\n\u001b[0;32m     10\u001b[0m             \u001b[0mprint\u001b[0m\u001b[1;33m(\u001b[0m\u001b[1;34m\"lower\"\u001b[0m\u001b[1;33m)\u001b[0m\u001b[1;33m\u001b[0m\u001b[0m\n",
      "\u001b[1;31mValueError\u001b[0m: invalid literal for int() with base 10: 'N'"
     ]
    }
   ],
   "source": [
    "import random\n",
    "ans='Y'\n",
    "b=-1\n",
    "a=random.randint(0,100)\n",
    "while(ans=='Y'):\n",
    "    chance=0\n",
    "    while(a!=b and chance!=3):\n",
    "        b=int(input(\"enter number:\"))\n",
    "        if(a<b):\n",
    "            print(\"lower\")\n",
    "        elif(a>b):\n",
    "            print(\"higher\")\n",
    "        elif(a==b):\n",
    "            print(\"you got it!\")\n",
    "        chance=chance+1    \n",
    "    if(a!=b):\n",
    "        print(\"answer:\",a)\n",
    "    ans=input(\"want to cont.(Y/N):\")"
   ]
  },
  {
   "cell_type": "markdown",
   "metadata": {},
   "source": [
    "# dictionary"
   ]
  },
  {
   "cell_type": "code",
   "execution_count": 5,
   "metadata": {},
   "outputs": [
    {
     "name": "stdout",
     "output_type": "stream",
     "text": [
      "d\n"
     ]
    }
   ],
   "source": [
    "a={1:'d',2:'b',3:'c'}\n",
    "print(a[1])"
   ]
  },
  {
   "cell_type": "code",
   "execution_count": null,
   "metadata": {},
   "outputs": [],
   "source": [
    "ascii_mapping={}\n",
    "for i in range(65,91):\n",
    "    ascii_mapping[chr(i)]=i\n",
    "print(ascii_mapping)    "
   ]
  },
  {
   "cell_type": "code",
   "execution_count": null,
   "metadata": {},
   "outputs": [],
   "source": [
    "ascii_mapping1={}\n",
    "for i in range(65,91):\n",
    "    ascii_mapping1[chr(i)]=chr(155-i)\n",
    "str=''\n",
    "a=input(\"enter:\")\n",
    "for i in a:\n",
    "    str=str+ascii_mapping1[i]\n",
    "print(str)    "
   ]
  },
  {
   "cell_type": "markdown",
   "metadata": {},
   "source": [
    "# usn pswd validation"
   ]
  },
  {
   "cell_type": "code",
   "execution_count": 11,
   "metadata": {
    "scrolled": true
   },
   "outputs": [
    {
     "name": "stdout",
     "output_type": "stream",
     "text": [
      "username:!dfsd\n",
      "username invlaid!\n",
      "username:sdfd sdfs\n",
      "username invlaid!\n",
      "username:dsfsdsd\n",
      "password:sadasASDA12\n",
      "password invlaid!\n",
      "password:dss@#32SA\n",
      "want to add new?(Y/N):N\n",
      "{'dsfsdsd': 'dss@#32SA'}\n"
     ]
    }
   ],
   "source": [
    "dict_usn_pswd={}\n",
    "sp_char=['!','@','#','$','%','^','&','*']\n",
    "ans='Y'\n",
    "while(ans=='Y'):\n",
    "    a=b='FALSE'\n",
    "    flag1=flag2=flag3=flag4=0\n",
    "    while(a=='FALSE'):\n",
    "        usn=input(\"username:\")\n",
    "        for i in usn:\n",
    "            if(usn[0] in sp_char):\n",
    "                a='FALSE'\n",
    "                break\n",
    "            if(i==' '):  \n",
    "                a='FALSE'\n",
    "                break    \n",
    "            elif(len(usn)<6 or len(usn)>12):\n",
    "                a='FALSE'\n",
    "                break   \n",
    "            else:\n",
    "                a='TRUE'    \n",
    "        if(a=='FALSE'):       \n",
    "            print(\"username invlaid!\")\n",
    "    chance=0\n",
    "    while(b=='FALSE' and  chance!=3):\n",
    "        pswd=input('password:')\n",
    "        for i in pswd:\n",
    "            if(ord(i) in range(65,91)):\n",
    "                flag1=1\n",
    "            if(ord(i) in range(48,58)):\n",
    "                flag2=1\n",
    "            if(i in sp_char):\n",
    "                flag4=1\n",
    "            if(len(pswd)>=6 and len(pswd)<20):\n",
    "                flag3=1\n",
    "        if(flag1==0 or flag2==0 or flag3==0 or flag4==0): \n",
    "            chance=chance+1\n",
    "            b='FALSE'\n",
    "        else:\n",
    "            b='TRUE'\n",
    "        if b=='FALSE':   \n",
    "            print(\"password invlaid!\")       \n",
    "    if(chance==3):\n",
    "        print('made 3 attempts! restart again')\n",
    "    else:    \n",
    "        dict_usn_pswd[usn]=pswd  \n",
    "    ans=input('want to add new?(Y/N):')\n",
    "print(dict_usn_pswd)"
   ]
  },
  {
   "cell_type": "markdown",
   "metadata": {},
   "source": [
    "# rock paper scissor"
   ]
  },
  {
   "cell_type": "code",
   "execution_count": null,
   "metadata": {},
   "outputs": [
    {
     "name": "stdout",
     "output_type": "stream",
     "text": [
      "enter(rock/paper/scissor):scissor\n",
      "computer:paper\n",
      "player:scissor\n",
      "win point!\n",
      "enter(rock/paper/scissor):scissor\n",
      "computer:scissor\n",
      "player:scissor\n",
      "tie!\n",
      "enter(rock/paper/scissor):rock\n",
      "computer:rock\n",
      "player:rock\n",
      "tie!\n",
      "final score-COMPUTER 0:1 PLAYER\n"
     ]
    }
   ],
   "source": [
    "import random\n",
    "ans='Y'\n",
    "while(ans=='Y'):\n",
    "    player=0\n",
    "    comp=0\n",
    "    rps_win={'rock':'scissor','paper':'rock','scissor':'paper'}\n",
    "    rps_lose={'rock':'paper','paper':'scissor','scissor':'rock'}\n",
    "    rps=['rock','paper','scissor']\n",
    "    for i in range(0,3):   \n",
    "        a=rps[random.randint(0,2)]\n",
    "        b=input('enter(rock/paper/scissor):')\n",
    "        print('computer:'+a)\n",
    "        print('player:'+b)\n",
    "        if rps_win[b]==a:\n",
    "            player=player+1\n",
    "            print('win point!')\n",
    "        elif rps_lose[b]==a:\n",
    "            comp=comp+1\n",
    "            print('lose point!')\n",
    "        else:\n",
    "            print('tie!')\n",
    "    print('final score-COMPUTER %d:%d PLAYER'%(comp,player))\n",
    "    ans=input('play more(Y/N):')"
   ]
  },
  {
   "cell_type": "markdown",
   "metadata": {},
   "source": [
    "# rock paper scissor 2"
   ]
  },
  {
   "cell_type": "code",
   "execution_count": 8,
   "metadata": {},
   "outputs": [
    {
     "name": "stdout",
     "output_type": "stream",
     "text": [
      "enter(rock/paper/scissor):rock\n",
      "computer:paper\n",
      "player:rock\n",
      "lose point!\n",
      "enter(rock/paper/scissor):paper\n",
      "computer:rock\n",
      "player:paper\n",
      "win point!\n",
      "enter(rock/paper/scissor):rock\n",
      "computer:paper\n",
      "player:rock\n",
      "lose point!\n",
      "final score-COMPUTER 2:1 PLAYER\n",
      "play more(Y/N):Y\n",
      "enter(rock/paper/scissor):paper\n",
      "computer:scissor\n",
      "player:paper\n",
      "lose point!\n",
      "enter(rock/paper/scissor):paper\n",
      "computer:paper\n",
      "player:paper\n",
      "tie!\n",
      "enter(rock/paper/scissor):paper\n",
      "computer:rock\n",
      "player:paper\n",
      "win point!\n",
      "final score-COMPUTER 1:1 PLAYER\n",
      "play more(Y/N):N\n"
     ]
    }
   ],
   "source": [
    "import random\n",
    "ans='Y'\n",
    "while(ans=='Y'):\n",
    "    player=0\n",
    "    comp=0\n",
    "    rps={0:'rock',1:'paper',2:'scissor'}\n",
    "    rps_rev={'rock':0,'paper':1,'scissor':2}\n",
    "    for i in range(0,3):   \n",
    "        rand_no=random.randint(0,2)\n",
    "        a=rps[rand_no]\n",
    "        b=input('enter(rock/paper/scissor):')\n",
    "        print('computer:'+a)\n",
    "        print('player:'+b)\n",
    "        if(rps_rev[b]==rand_no):\n",
    "            print('tie!')\n",
    "        elif((rps_rev[b]+1)%3==rand_no):\n",
    "            comp=comp+1\n",
    "            print('lose point!')\n",
    "        else:\n",
    "            player=player+1\n",
    "            print('win point!')\n",
    "    print('final score-COMPUTER %d:%d PLAYER'%(comp,player))\n",
    "    ans=input('play more(Y/N):')"
   ]
  },
  {
   "cell_type": "markdown",
   "metadata": {},
   "source": [
    "# rock paper scissor 3"
   ]
  },
  {
   "cell_type": "code",
   "execution_count": null,
   "metadata": {},
   "outputs": [],
   "source": [
    "import random\n",
    "ans='Y'\n",
    "rps={'rock':0,'paper':1,'scissor':2}\n",
    "rps_rev={0:'rock',1:'paper',2:'scissor'}\n",
    "rps_win=[-2,1]\n",
    "rps_lose=[-1,2]\n",
    "while(ans=='Y'):\n",
    "    player=0\n",
    "    comp=0\n",
    "    for i in range(0,3):   \n",
    "        rand_no=random.randint(0,2)\n",
    "        a=rps_rev[rand_no]\n",
    "        b=input('enter(rock/paper/scissor):')\n",
    "        print('computer:'+a)\n",
    "        print('player:'+b)\n",
    "        if((rps[b]-rand_no) in rps_win):\n",
    "            player=player+1\n",
    "            print('win point!')\n",
    "        elif((rps[b]-rand_no) in rps_lose):\n",
    "            comp=comp+1\n",
    "            print('lose point!')\n",
    "        else:\n",
    "            print('tie!')\n",
    "    print('final score-COMPUTER %d:%d PLAYER'%(comp,player))\n",
    "    ans=input('play more(Y/N):')"
   ]
  },
  {
   "cell_type": "code",
   "execution_count": null,
   "metadata": {},
   "outputs": [],
   "source": []
  }
 ],
 "metadata": {
  "kernelspec": {
   "display_name": "Python 3",
   "language": "python",
   "name": "python3"
  },
  "language_info": {
   "codemirror_mode": {
    "name": "ipython",
    "version": 3
   },
   "file_extension": ".py",
   "mimetype": "text/x-python",
   "name": "python",
   "nbconvert_exporter": "python",
   "pygments_lexer": "ipython3",
   "version": "3.6.5"
  }
 },
 "nbformat": 4,
 "nbformat_minor": 2
}
