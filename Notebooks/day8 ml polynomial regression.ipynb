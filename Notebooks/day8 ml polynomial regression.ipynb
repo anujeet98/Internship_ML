{
 "cells": [
  {
   "cell_type": "markdown",
   "metadata": {},
   "source": [
    "# Non-Linear (Polynomial Regression)"
   ]
  },
  {
   "cell_type": "code",
   "execution_count": 3,
   "metadata": {},
   "outputs": [
    {
     "data": {
      "image/png": "[encoded data removed]",
      "text/plain": [
       "<Figure size 432x288 with 1 Axes>"
      ]
     },
     "metadata": {},
     "output_type": "display_data"
    }
   ],
   "source": [
    "#in non linear we cannot fit linear line so the independent variable is itself dependent here \n",
    "%matplotlib inline\n",
    "import matplotlib.pyplot as plt\n",
    "\n",
    "x=[[6],[8],[10],[14],[18]]#input hasa list of list\n",
    "y=[7,9,13,13.5,10]\n",
    "\n",
    "plt.figure()\n",
    "plt.plot(x,y,'go')\n",
    "plt.axis([0,25,0,25])\n",
    "plt.grid()"
   ]
  },
  {
   "cell_type": "code",
   "execution_count": 19,
   "metadata": {},
   "outputs": [
    {
     "data": {
      "text/plain": [
       "array([[1.000e+00, 6.000e+00, 3.600e+01, 2.160e+02],\n",
       "       [1.000e+00, 8.000e+00, 6.400e+01, 5.120e+02],\n",
       "       [1.000e+00, 1.000e+01, 1.000e+02, 1.000e+03],\n",
       "       [1.000e+00, 1.400e+01, 1.960e+02, 2.744e+03],\n",
       "       [1.000e+00, 1.800e+01, 3.240e+02, 5.832e+03]])"
      ]
     },
     "execution_count": 19,
     "metadata": {},
     "output_type": "execute_result"
    }
   ],
   "source": [
    "import numpy as np\n",
    "from sklearn.preprocessing import PolynomialFeatures\n",
    "from sklearn.linear_model import LinearRegression\n",
    "\n",
    "poly=PolynomialFeatures(degree=3)#degree> gives over fitting that is accurate values for training set but for test set its out of bound and the prices are irregular on the graph\n",
    "\n",
    "QuadraticCoeff=poly.fit_transform(x)\n",
    "QuadraticCoeff"
   ]
  },
  {
   "cell_type": "code",
   "execution_count": 17,
   "metadata": {},
   "outputs": [
    {
     "name": "stdout",
     "output_type": "stream",
     "text": [
      "Expected Output [7, 9, 13, 13.5, 10]\n",
      "Predicted Output [ 7.   9.  13.  13.5 10. ]\n"
     ]
    }
   ],
   "source": [
    "Pmodel=LinearRegression()\n",
    "Pmodel.fit(QuadraticCoeff,y)\n",
    "print('Expected Output',y)\n",
    "print('Predicted Output',Pmodel.predict(QuadraticCoeff))"
   ]
  },
  {
   "cell_type": "code",
   "execution_count": 18,
   "metadata": {},
   "outputs": [
    {
     "data": {
      "image/png": "[encoded data removed]",
      "text/plain": [
       "<Figure size 432x288 with 1 Axes>"
      ]
     },
     "metadata": {},
     "output_type": "display_data"
    }
   ],
   "source": [
    "#plotting the curve\n",
    "xx=np.linspace(0,25,101).reshape(-1,1)\n",
    "xx_quadratic=poly.fit_transform(xx)\n",
    "\n",
    "plt.axis([0,25,0,25])\n",
    "plt.grid()\n",
    "plt.plot(xx,Pmodel.predict(xx_quadratic),c='r',linestyle=\"--\")\n",
    "plt.scatter(x,y)\n",
    "plt.show()"
   ]
  },
  {
   "cell_type": "code",
   "execution_count": 14,
   "metadata": {},
   "outputs": [
    {
     "data": {
      "text/plain": [
       "0.949107142857143"
      ]
     },
     "execution_count": 14,
     "metadata": {},
     "output_type": "execute_result"
    }
   ],
   "source": [
    "Pmodel.score(QuadraticCoeff,y)"
   ]
  },
  {
   "cell_type": "code",
   "execution_count": 15,
   "metadata": {},
   "outputs": [
    {
     "name": "stdout",
     "output_type": "stream",
     "text": [
      "SGD MSE-> 0.30535714285714166\n"
     ]
    }
   ],
   "source": [
    "from sklearn.metrics import mean_squared_error\n",
    "\n",
    "mse=mean_squared_error(y,Pmodel.predict(QuadraticCoeff),multioutput='uniform_average')\n",
    "print(\"SGD MSE->\",mse)"
   ]
  },
  {
   "cell_type": "code",
   "execution_count": null,
   "metadata": {},
   "outputs": [],
   "source": []
  }
 ],
 "metadata": {
  "kernelspec": {
   "display_name": "Python 3",
   "language": "python",
   "name": "python3"
  },
  "language_info": {
   "codemirror_mode": {
    "name": "ipython",
    "version": 3
   },
   "file_extension": ".py",
   "mimetype": "text/x-python",
   "name": "python",
   "nbconvert_exporter": "python",
   "pygments_lexer": "ipython3",
   "version": "3.6.5"
  }
 },
 "nbformat": 4,
 "nbformat_minor": 2
}
