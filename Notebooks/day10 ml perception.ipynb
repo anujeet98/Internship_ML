{
 "cells": [
  {
   "cell_type": "markdown",
   "metadata": {},
   "source": [
    "# CLASSIFICATION"
   ]
  },
  {
   "cell_type": "code",
   "execution_count": 1,
   "metadata": {},
   "outputs": [],
   "source": [
    "#it is type of supervised method\n",
    "#we use regression for continuous answers\n",
    "#and use classification if answer is divided into classes eg class for odd or even etc\n",
    "#for eg digit recognition ,in this we have class of all the digits\n",
    "#type 1 of classification is perceptron-Binary Clasification in this answer is in yes or no"
   ]
  },
  {
   "cell_type": "code",
   "execution_count": 2,
   "metadata": {},
   "outputs": [],
   "source": [
    "#Binary Classification using Perceptron\n",
    "#it requires a dataset where it can draw a single line that can divide a solution into 2 classes ie yes or no\n",
    "#heaviside step function g(x)=1 if x>0 ,0 if x<0\n",
    "#it it is used for 1d space and Binary Classification using Perceptron we use 2d spce (here we need to find slope of the separator)\n",
    "#in eg to find if player can be a goalkeeoer or not based on height ,to fit this model in heaviside step function we add a constant a to x\n",
    "#so we find minimum a to classify the solution\n",
    "#in perceptron model ,model parameter is n+1 n=no of input,for each input 1 weight value and a threshold function parameter\n",
    "#in regression model ther are 2 model parameter ie slope m and coefficient c"
   ]
  },
  {
   "cell_type": "code",
   "execution_count": 3,
   "metadata": {},
   "outputs": [],
   "source": [
    "import pandas as pd\n",
    "import matplotlib.pyplot as plt\n"
   ]
  },
  {
   "cell_type": "code",
   "execution_count": 4,
   "metadata": {},
   "outputs": [
    {
     "data": {
      "text/html": [
       "<div>\n",
       "<style scoped>\n",
       "    .dataframe tbody tr th:only-of-type {\n",
       "        vertical-align: middle;\n",
       "    }\n",
       "\n",
       "    .dataframe tbody tr th {\n",
       "        vertical-align: top;\n",
       "    }\n",
       "\n",
       "    .dataframe thead th {\n",
       "        text-align: right;\n",
       "    }\n",
       "</style>\n",
       "<table border=\"1\" class=\"dataframe\">\n",
       "  <thead>\n",
       "    <tr style=\"text-align: right;\">\n",
       "      <th></th>\n",
       "      <th>sleep_proportion</th>\n",
       "      <th>grumpy_proportion</th>\n",
       "      <th>prediction</th>\n",
       "    </tr>\n",
       "  </thead>\n",
       "  <tbody>\n",
       "    <tr>\n",
       "      <th>0</th>\n",
       "      <td>0.2</td>\n",
       "      <td>0.1</td>\n",
       "      <td>kitten</td>\n",
       "    </tr>\n",
       "    <tr>\n",
       "      <th>1</th>\n",
       "      <td>0.4</td>\n",
       "      <td>0.6</td>\n",
       "      <td>kitten</td>\n",
       "    </tr>\n",
       "    <tr>\n",
       "      <th>2</th>\n",
       "      <td>0.5</td>\n",
       "      <td>0.2</td>\n",
       "      <td>kitten</td>\n",
       "    </tr>\n",
       "    <tr>\n",
       "      <th>3</th>\n",
       "      <td>0.7</td>\n",
       "      <td>0.9</td>\n",
       "      <td>adult</td>\n",
       "    </tr>\n",
       "  </tbody>\n",
       "</table>\n",
       "</div>"
      ],
      "text/plain": [
       "   sleep_proportion  grumpy_proportion prediction\n",
       "0               0.2                0.1     kitten\n",
       "1               0.4                0.6     kitten\n",
       "2               0.5                0.2     kitten\n",
       "3               0.7                0.9      adult"
      ]
     },
     "execution_count": 4,
     "metadata": {},
     "output_type": "execute_result"
    }
   ],
   "source": [
    "df=pd.DataFrame({'sleep_proportion':[0.2,0.4,0.5,0.7],\n",
    "                 'grumpy_proportion':[0.1,0.6,0.2,0.9],\n",
    "                 'prediction':['kitten','kitten','kitten','adult']})\n",
    "df.head()"
   ]
  },
  {
   "cell_type": "code",
   "execution_count": 5,
   "metadata": {},
   "outputs": [
    {
     "data": {
      "image/png": "[encoded data removed]",
      "text/plain": [
       "<Figure size 432x288 with 1 Axes>"
      ]
     },
     "metadata": {},
     "output_type": "display_data"
    }
   ],
   "source": [
    "kittens=df[df['prediction']=='kitten']\n",
    "adults=df[df['prediction']=='adult']\n",
    "plt.scatter(kittens['sleep_proportion'],kittens['grumpy_proportion'],label='kitten')\n",
    "plt.scatter(adults['sleep_proportion'],adults['grumpy_proportion'],color='r',label='adult')    \n",
    "plt.legend()\n",
    "plt.xlabel('sleeping proportion of the day')\n",
    "plt.ylabel('grumpy proportion of the day')\n",
    "plt.axis([0,1,0,1])\n",
    "plt.grid()"
   ]
  },
  {
   "cell_type": "code",
   "execution_count": 6,
   "metadata": {},
   "outputs": [
    {
     "data": {
      "text/html": [
       "<div>\n",
       "<style scoped>\n",
       "    .dataframe tbody tr th:only-of-type {\n",
       "        vertical-align: middle;\n",
       "    }\n",
       "\n",
       "    .dataframe tbody tr th {\n",
       "        vertical-align: top;\n",
       "    }\n",
       "\n",
       "    .dataframe thead th {\n",
       "        text-align: right;\n",
       "    }\n",
       "</style>\n",
       "<table border=\"1\" class=\"dataframe\">\n",
       "  <thead>\n",
       "    <tr style=\"text-align: right;\">\n",
       "      <th></th>\n",
       "      <th>sleep_proportion</th>\n",
       "      <th>grumpy_proportion</th>\n",
       "      <th>prediction</th>\n",
       "      <th>bprediction</th>\n",
       "    </tr>\n",
       "  </thead>\n",
       "  <tbody>\n",
       "    <tr>\n",
       "      <th>0</th>\n",
       "      <td>0.2</td>\n",
       "      <td>0.1</td>\n",
       "      <td>kitten</td>\n",
       "      <td>True</td>\n",
       "    </tr>\n",
       "    <tr>\n",
       "      <th>1</th>\n",
       "      <td>0.4</td>\n",
       "      <td>0.6</td>\n",
       "      <td>kitten</td>\n",
       "      <td>True</td>\n",
       "    </tr>\n",
       "    <tr>\n",
       "      <th>2</th>\n",
       "      <td>0.5</td>\n",
       "      <td>0.2</td>\n",
       "      <td>kitten</td>\n",
       "      <td>True</td>\n",
       "    </tr>\n",
       "    <tr>\n",
       "      <th>3</th>\n",
       "      <td>0.7</td>\n",
       "      <td>0.9</td>\n",
       "      <td>adult</td>\n",
       "      <td>False</td>\n",
       "    </tr>\n",
       "  </tbody>\n",
       "</table>\n",
       "</div>"
      ],
      "text/plain": [
       "   sleep_proportion  grumpy_proportion prediction  bprediction\n",
       "0               0.2                0.1     kitten         True\n",
       "1               0.4                0.6     kitten         True\n",
       "2               0.5                0.2     kitten         True\n",
       "3               0.7                0.9      adult        False"
      ]
     },
     "execution_count": 6,
     "metadata": {},
     "output_type": "execute_result"
    }
   ],
   "source": [
    "df['bprediction']=df['prediction'].apply(lambda x:x=='kitten')\n",
    "from sklearn.linear_model import Perceptron\n",
    "\n",
    "classifier=Perceptron(max_iter=1000)\n",
    "model=classifier.fit(df[['sleep_proportion','grumpy_proportion']],df['bprediction'])#in classifier we are passing dleep and grumpy values and bprediction ie the label column\n",
    "#sleep and grumpy in this we are passing the table so we are making list of list\n",
    "df\n"
   ]
  },
  {
   "cell_type": "markdown",
   "metadata": {},
   "source": [
    "# predict"
   ]
  },
  {
   "cell_type": "code",
   "execution_count": 7,
   "metadata": {},
   "outputs": [
    {
     "data": {
      "text/plain": [
       "array([ True, False])"
      ]
     },
     "execution_count": 7,
     "metadata": {},
     "output_type": "execute_result"
    }
   ],
   "source": [
    "model.predict([[0.4,0.4],[0.9,0.95]])\n",
    "#here 0.4,0.4 is kitten so true \n",
    "#and for 0.9,0.95 is adult so false"
   ]
  },
  {
   "cell_type": "code",
   "execution_count": 10,
   "metadata": {},
   "outputs": [
    {
     "name": "stdout",
     "output_type": "stream",
     "text": [
      "weight_0-0.2999999999999999\n",
      "weight_1-0.9\n",
      "threshold[1.]\n",
      "0   -0.15\n",
      "1   -0.66\n",
      "2   -0.33\n",
      "3   -1.02\n",
      "dtype: float64\n"
     ]
    }
   ],
   "source": [
    "#print output value\n",
    "print('weight_0'+str(model.coef_[0,0]))\n",
    "print('weight_1'+str(model.coef_[0,1]))\n",
    "print('threshold'+str(model.intercept_))\n",
    "\n",
    "print((model.coef_[0,0]*df['sleep_proportion']+model.coef_[0,1]*df['grumpy_proportion']))"
   ]
  },
  {
   "cell_type": "code",
   "execution_count": 16,
   "metadata": {},
   "outputs": [
    {
     "name": "stdout",
     "output_type": "stream",
     "text": [
      "[[0.   0.01 0.02 ... 0.97 0.98 0.99]\n",
      " [0.   0.01 0.02 ... 0.97 0.98 0.99]\n",
      " [0.   0.01 0.02 ... 0.97 0.98 0.99]\n",
      " ...\n",
      " [0.   0.01 0.02 ... 0.97 0.98 0.99]\n",
      " [0.   0.01 0.02 ... 0.97 0.98 0.99]\n",
      " [0.   0.01 0.02 ... 0.97 0.98 0.99]]\n",
      "[[0.   0.   0.   ... 0.   0.   0.  ]\n",
      " [0.01 0.01 0.01 ... 0.01 0.01 0.01]\n",
      " [0.02 0.02 0.02 ... 0.02 0.02 0.02]\n",
      " ...\n",
      " [0.97 0.97 0.97 ... 0.97 0.97 0.97]\n",
      " [0.98 0.98 0.98 ... 0.98 0.98 0.98]\n",
      " [0.99 0.99 0.99 ... 0.99 0.99 0.99]]\n",
      "[0.   0.01 0.02 0.03 0.04 0.05 0.06 0.07 0.08 0.09]\n",
      "[0. 0. 0. 0. 0. 0. 0. 0. 0. 0.]\n",
      "[[0.   0.  ]\n",
      " [0.01 0.  ]\n",
      " [0.02 0.  ]\n",
      " [0.03 0.  ]\n",
      " [0.04 0.  ]\n",
      " [0.05 0.  ]\n",
      " [0.06 0.  ]\n",
      " [0.07 0.  ]\n",
      " [0.08 0.  ]\n",
      " [0.09 0.  ]\n",
      " [0.1  0.  ]\n",
      " [0.11 0.  ]\n",
      " [0.12 0.  ]\n",
      " [0.13 0.  ]\n",
      " [0.14 0.  ]\n",
      " [0.15 0.  ]\n",
      " [0.16 0.  ]\n",
      " [0.17 0.  ]\n",
      " [0.18 0.  ]\n",
      " [0.19 0.  ]]\n",
      "[ True  True  True ... False False False]\n",
      "[[ True  True  True ...  True  True  True]\n",
      " [ True  True  True ...  True  True  True]\n",
      " [ True  True  True ...  True  True  True]\n",
      " ...\n",
      " [ True  True  True ... False False False]\n",
      " [ True  True  True ... False False False]\n",
      " [ True  True  True ... False False False]]\n"
     ]
    },
    {
     "data": {
      "image/png": "[encoded data removed]",
      "text/plain": [
       "<Figure size 432x288 with 1 Axes>"
      ]
     },
     "metadata": {},
     "output_type": "display_data"
    }
   ],
   "source": [
    "import numpy as np\n",
    "\n",
    "x_min,x_max=0,1#minimum x/y is 0 and maximum x/y is1\n",
    "y_min,y_max=0,1\n",
    "\n",
    "xx,yy=np.meshgrid(np.arange(x_min,x_max, .01),np.arange(y_min,y_max, .01))\n",
    "#storing xx ,yy with 0.2 step in every range\n",
    "\n",
    "print(xx); print(yy);\n",
    "xx_lin=xx.ravel(); print(xx_lin[:10]); #ravel converts table of array into series snd stores in xx_lin\n",
    "yy_lin=yy.ravel(); print(yy_lin[:10]); #ravel converts table of array into series\n",
    "pred_input=np.c_[xx_lin,yy_lin];print(pred_input[:20])#np.c combines each xx_lin value with corresponding yy_lin and stores into pred_input\n",
    "\n",
    "z=model.predict(pred_input);print(z)#passing each table row of pred_input to predict and store in z,it gives a series of true/false values\n",
    "z=z.reshape(xx.shape);print(z)#converting z from series to table of xx shape ie 25 rows and 5 columns\n",
    "\n",
    "#contour plot requires 2 dimensional matrix\n",
    "plt.contourf(xx,yy,z,cmap=plt.cm.Pastel1)\n",
    "#input to contourf is 3 ie xx ,yy and z(where to plot true and where to plot false),cmap is from matplotlib it has 2 colours in pastel1 0for hagih value color and 1 for low valued color\n",
    "\n",
    "plt.scatter(kittens['sleep_proportion'],kittens['grumpy_proportion'],color='b',label='kitten')\n",
    "plt.scatter(adults['sleep_proportion'],adults['grumpy_proportion'],color='r',label='adult')\n",
    "\n",
    "plt.axis([0,1,0,1])\n",
    "plt.grid()"
   ]
  },
  {
   "cell_type": "markdown",
   "metadata": {},
   "source": [
    "# support vector machine"
   ]
  },
  {
   "cell_type": "code",
   "execution_count": 24,
   "metadata": {},
   "outputs": [],
   "source": [
    "from sklearn.svm import SVC\n",
    "#importing support vector classifier\n",
    "SVCClassifier=SVC(kernel='linear',C=10,max_iter=100)#using liner line for classification,penalty is 10 if miss any point,is c(penalty)=1 then it becomes lineient and skips few points here it will make all true\n",
    "SVCModel=SVCClassifier.fit(df[['sleep_proportion','grumpy_proportion']],df['bprediction'])"
   ]
  },
  {
   "cell_type": "code",
   "execution_count": 25,
   "metadata": {},
   "outputs": [
    {
     "name": "stdout",
     "output_type": "stream",
     "text": [
      "[ True False]\n"
     ]
    },
    {
     "data": {
      "image/png": "[encoded data removed]",
      "text/plain": [
       "<Figure size 432x288 with 1 Axes>"
      ]
     },
     "metadata": {},
     "output_type": "display_data"
    }
   ],
   "source": [
    "SVC_z=SVCModel.predict(pred_input)\n",
    "SVC_z=SVC_z.reshape(xx.shape)\n",
    "\n",
    "print(SVCModel.predict([[0,0],[1,1]]))\n",
    "#contour plot requires 2 dimensional matrix\n",
    "plt.contourf(xx,yy,SVC_z,cmap=plt.cm.Pastel1)\n",
    "\n",
    "\n",
    "plt.scatter(kittens['sleep_proportion'],kittens['grumpy_proportion'],color='b',label='kitten')\n",
    "plt.scatter(adults['sleep_proportion'],adults['grumpy_proportion'],color='r',label='adult')\n",
    "\n",
    "plt.axis([0,1,0,1])\n",
    "plt.grid()"
   ]
  },
  {
   "cell_type": "code",
   "execution_count": null,
   "metadata": {},
   "outputs": [],
   "source": []
  }
 ],
 "metadata": {
  "kernelspec": {
   "display_name": "Python 3",
   "language": "python",
   "name": "python3"
  },
  "language_info": {
   "codemirror_mode": {
    "name": "ipython",
    "version": 3
   },
   "file_extension": ".py",
   "mimetype": "text/x-python",
   "name": "python",
   "nbconvert_exporter": "python",
   "pygments_lexer": "ipython3",
   "version": "3.6.5"
  }
 },
 "nbformat": 4,
 "nbformat_minor": 2
}
