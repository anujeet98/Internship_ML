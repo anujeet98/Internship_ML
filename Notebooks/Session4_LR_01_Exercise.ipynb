{
 "cells": [
  {
   "cell_type": "markdown",
   "metadata": {},
   "source": [
    "## Exercise - Linear Regression with University GPA\n",
    "\n",
    "The sat.csv file contains two columns, high_GPA and univ_GPA. It stands for high school GPA and university GPA. We have to predict university GPA based on the data given in high school GPA using Linear Regression.\n",
    "\n",
    "### Perform the following operations:\n",
    "1. Read the file in pandas (already done). \n",
    "2. Plot a scatter (correlation) plot of high_GPA with univ_GPA with proper labels and axis limits using matplotlib (GPA goes from 0-4). Observe the trend in the data, does it look linear? What kind of correlation is this? \n",
    "3. Lets prepare data for our model training. Split the data into training & testing using the sklearns train test split function. The test datasize is 0.25, and the random state is 35. Lets plot this data using a scatter plot to observe which data was selected as test & train. On a single graph, plot a scatter of training data in red color, and testing data in blue color. Does the training data cover the entire range of GPA prediction?\n",
    "4. Fit the Linear regression model using training data. \n",
    "5. Now lets plot the regression line. On a graph window first plot the scatter plot of training data. On that, for high school GPA 0 & 4, plot a line with the prediction of 0 & 4 using the predict function. \n",
    "6. Predict the university GPA for the test dataset. Get the mean square error for predictions, and score of the model. "
   ]
  },
  {
   "cell_type": "code",
   "execution_count": 1,
   "metadata": {},
   "outputs": [],
   "source": [
    "import pandas as pd"
   ]
  },
  {
   "cell_type": "code",
   "execution_count": 2,
   "metadata": {},
   "outputs": [
    {
     "data": {
      "text/html": [
       "<div>\n",
       "<style scoped>\n",
       "    .dataframe tbody tr th:only-of-type {\n",
       "        vertical-align: middle;\n",
       "    }\n",
       "\n",
       "    .dataframe tbody tr th {\n",
       "        vertical-align: top;\n",
       "    }\n",
       "\n",
       "    .dataframe thead th {\n",
       "        text-align: right;\n",
       "    }\n",
       "</style>\n",
       "<table border=\"1\" class=\"dataframe\">\n",
       "  <thead>\n",
       "    <tr style=\"text-align: right;\">\n",
       "      <th></th>\n",
       "      <th>high_GPA</th>\n",
       "      <th>univ_GPA</th>\n",
       "    </tr>\n",
       "  </thead>\n",
       "  <tbody>\n",
       "    <tr>\n",
       "      <th>0</th>\n",
       "      <td>3.45</td>\n",
       "      <td>3.52</td>\n",
       "    </tr>\n",
       "    <tr>\n",
       "      <th>1</th>\n",
       "      <td>2.78</td>\n",
       "      <td>2.91</td>\n",
       "    </tr>\n",
       "    <tr>\n",
       "      <th>2</th>\n",
       "      <td>2.52</td>\n",
       "      <td>2.40</td>\n",
       "    </tr>\n",
       "    <tr>\n",
       "      <th>3</th>\n",
       "      <td>3.67</td>\n",
       "      <td>3.47</td>\n",
       "    </tr>\n",
       "    <tr>\n",
       "      <th>4</th>\n",
       "      <td>3.24</td>\n",
       "      <td>3.47</td>\n",
       "    </tr>\n",
       "  </tbody>\n",
       "</table>\n",
       "</div>"
      ],
      "text/plain": [
       "   high_GPA  univ_GPA\n",
       "0      3.45      3.52\n",
       "1      2.78      2.91\n",
       "2      2.52      2.40\n",
       "3      3.67      3.47\n",
       "4      3.24      3.47"
      ]
     },
     "execution_count": 2,
     "metadata": {},
     "output_type": "execute_result"
    }
   ],
   "source": [
    "df = pd.read_csv('sat.csv')\n",
    "df.head()"
   ]
  },
  {
   "cell_type": "markdown",
   "metadata": {},
   "source": [
    "## Your code goes here"
   ]
  },
  {
   "cell_type": "code",
   "execution_count": 3,
   "metadata": {},
   "outputs": [],
   "source": [
    "%matplotlib inline\n",
    "import matplotlib.pyplot as plt"
   ]
  },
  {
   "cell_type": "code",
   "execution_count": 4,
   "metadata": {},
   "outputs": [
    {
     "data": {
      "image/png": "[encoded data removed]",
      "text/plain": [
       "<Figure size 432x288 with 1 Axes>"
      ]
     },
     "metadata": {},
     "output_type": "display_data"
    }
   ],
   "source": [
    "plt.figure()\n",
    "plt.title('high_GPA vs univ_GPA')\n",
    "plt.xlabel('high_GPA')\n",
    "plt.ylabel('univ_GPA')\n",
    "plt.plot(df['high_GPA'],df['univ_GPA'],'go')#go=color green,marker style o\n",
    "plt.axis([0,4.1,0,4.1])#xlims and ylims together\n",
    "plt.grid(True)"
   ]
  },
  {
   "cell_type": "code",
   "execution_count": 15,
   "metadata": {},
   "outputs": [
    {
     "data": {
      "image/png": "[encoded data removed]",
      "text/plain": [
       "<Figure size 432x288 with 1 Axes>"
      ]
     },
     "metadata": {},
     "output_type": "display_data"
    }
   ],
   "source": [
    "from sklearn.model_selection import train_test_split\n",
    "high_GPA_train,high_GPA_test,univ_GPA_train,univ_GPA_test=\\\n",
    "train_test_split(df['high_GPA'],df['univ_GPA'],test_size=0.25,random_state=35)\n",
    "plt.figure()\n",
    "plt.title('high_GPA vs univ_GPA')\n",
    "plt.xlabel('high_GPA')\n",
    "plt.ylabel('univ_GPA')\n",
    "plt.plot(high_GPA_train,univ_GPA_train,'ro',label='training')\n",
    "plt.plot(high_GPA_test,univ_GPA_test,'bo',label='test')\n",
    "plt.axis([0,4.1,0,4.1])\n",
    "plt.legend()\n",
    "plt.grid()\n",
    "#here plotting 4 points only train points"
   ]
  },
  {
   "cell_type": "code",
   "execution_count": 17,
   "metadata": {},
   "outputs": [
    {
     "data": {
      "text/plain": [
       "LinearRegression(copy_X=True, fit_intercept=True, n_jobs=1, normalize=False)"
      ]
     },
     "execution_count": 17,
     "metadata": {},
     "output_type": "execute_result"
    }
   ],
   "source": [
    "from sklearn.linear_model import LinearRegression\n",
    "model=LinearRegression() \n",
    "model.fit(high_GPA_train.values.reshape(-1,1),univ_GPA_train)\n",
    "\n",
    "#print(univ_GPA_test)"
   ]
  },
  {
   "cell_type": "code",
   "execution_count": 20,
   "metadata": {},
   "outputs": [
    {
     "data": {
      "text/plain": [
       "array([1.09827156, 3.79760353])"
      ]
     },
     "execution_count": 20,
     "metadata": {},
     "output_type": "execute_result"
    }
   ],
   "source": [
    "a=model.predict([[0],[4]])\n",
    "a"
   ]
  },
  {
   "cell_type": "code",
   "execution_count": 29,
   "metadata": {},
   "outputs": [
    {
     "name": "stdout",
     "output_type": "stream",
     "text": [
      "[1.09827156 3.79760353]\n"
     ]
    },
    {
     "data": {
      "text/plain": [
       "[<matplotlib.lines.Line2D at 0x1ebd9e4f3c8>]"
      ]
     },
     "execution_count": 29,
     "metadata": {},
     "output_type": "execute_result"
    },
    {
     "data": {
      "image/png": "[encoded data removed]",
      "text/plain": [
       "<Figure size 432x288 with 1 Axes>"
      ]
     },
     "metadata": {},
     "output_type": "display_data"
    }
   ],
   "source": [
    "plt.figure()\n",
    "plt.xlabel('high_GPA')\n",
    "plt.ylabel('univ_GPA')\n",
    "plt.plot(high_GPA_train,univ_GPA_train,'ro')\n",
    "plt.plot(high_GPA_test,univ_GPA_test,'bo')\n",
    "\n",
    "plt.axis([0,4.1,0,4.1])\n",
    "plt.grid()\n",
    "\n",
    "#plot regression solution line\n",
    "regression_line_y=model.predict([[0],[4]])\n",
    "print(regression_line_y)\n",
    "plt.plot([0,4],regression_line_y,'r',linestyle='-',linewidth=1)"
   ]
  },
  {
   "cell_type": "code",
   "execution_count": 32,
   "metadata": {},
   "outputs": [],
   "source": [
    "obtained_univ_GPA_test=model.predict(high_GPA_test.values.reshape(-1,1))"
   ]
  },
  {
   "cell_type": "code",
   "execution_count": 33,
   "metadata": {},
   "outputs": [
    {
     "name": "stdout",
     "output_type": "stream",
     "text": [
      "SGD MSE-> 0.08829962267842788\n"
     ]
    }
   ],
   "source": [
    "from sklearn.metrics import mean_squared_error\n",
    "\n",
    "mse=mean_squared_error(univ_GPA_test,obtained_univ_GPA_test)\n",
    "print(\"SGD MSE->\",mse)"
   ]
  },
  {
   "cell_type": "code",
   "execution_count": 36,
   "metadata": {},
   "outputs": [
    {
     "data": {
      "text/plain": [
       "0.6077079300868438"
      ]
     },
     "execution_count": 36,
     "metadata": {},
     "output_type": "execute_result"
    }
   ],
   "source": [
    "model.score(df['high_GPA'].values.reshape(-1,1),df['univ_GPA'])"
   ]
  },
  {
   "cell_type": "code",
   "execution_count": null,
   "metadata": {},
   "outputs": [],
   "source": []
  }
 ],
 "metadata": {
  "kernelspec": {
   "display_name": "Python 3",
   "language": "python",
   "name": "python3"
  },
  "language_info": {
   "codemirror_mode": {
    "name": "ipython",
    "version": 3
   },
   "file_extension": ".py",
   "mimetype": "text/x-python",
   "name": "python",
   "nbconvert_exporter": "python",
   "pygments_lexer": "ipython3",
   "version": "3.6.5"
  }
 },
 "nbformat": 4,
 "nbformat_minor": 2
}
