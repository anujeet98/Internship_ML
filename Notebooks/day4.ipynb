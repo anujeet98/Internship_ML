{
 "cells": [
  {
   "cell_type": "code",
   "execution_count": 8,
   "metadata": {},
   "outputs": [],
   "source": [
    "import matplotlib\n",
    "import numpy"
   ]
  },
  {
   "cell_type": "code",
   "execution_count": 4,
   "metadata": {},
   "outputs": [
    {
     "name": "stdout",
     "output_type": "stream",
     "text": [
      "hello world!new line\n"
     ]
    }
   ],
   "source": [
    "fp=open(\"mynewfile.txt\",\"w\")\n",
    "fp.write(\"hello world!\")\n",
    "fp.write(\"new line\")\n",
    "fp.close()\n",
    "fp=open(\"mynewfile.txt\",\"r\")\n",
    "count=fp.read()\n",
    "print(count)"
   ]
  },
  {
   "cell_type": "code",
   "execution_count": 7,
   "metadata": {},
   "outputs": [
    {
     "name": "stdout",
     "output_type": "stream",
     "text": [
      "'pens'\n",
      "key error occured\n",
      "finished execution\n"
     ]
    }
   ],
   "source": [
    "try:\n",
    "    int('43.43') # comment it to get ValueError\n",
    "    mydict={\"Pens\":33,\"books\":3,\"chocolates\":8}\n",
    "    print(mydict[\"pens\"])\n",
    "except KeyError as e:     #use 'as e: print(str(e)) ' to show where and what error occured   \n",
    "    print(str(e))\n",
    "    print(\"key error occured\")\n",
    "except ValueError as e:\n",
    "    print(str(e))\n",
    "    print(\"value error occured\")\n",
    "except Exception as e:\n",
    "    print(str(e))\n",
    "    print(\"generic error occured\")    \n",
    "print(\"finished execution\")   "
   ]
  },
  {
   "cell_type": "code",
   "execution_count": 9,
   "metadata": {},
   "outputs": [
    {
     "data": {
      "text/plain": [
       "3"
      ]
     },
     "execution_count": 9,
     "metadata": {},
     "output_type": "execute_result"
    }
   ],
   "source": [
    "import numpy as np"
   ]
  },
  {
   "cell_type": "code",
   "execution_count": null,
   "metadata": {},
   "outputs": [],
   "source": []
  }
 ],
 "metadata": {
  "kernelspec": {
   "display_name": "Python 3",
   "language": "python",
   "name": "python3"
  },
  "language_info": {
   "codemirror_mode": {
    "name": "ipython",
    "version": 3
   },
   "file_extension": ".py",
   "mimetype": "text/x-python",
   "name": "python",
   "nbconvert_exporter": "python",
   "pygments_lexer": "ipython3",
   "version": "3.6.5"
  }
 },
 "nbformat": 4,
 "nbformat_minor": 2
}
