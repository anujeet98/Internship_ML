{
 "cells": [
  {
   "cell_type": "markdown",
   "metadata": {},
   "source": [
    "# Exercise - Polynomial(Non linear) Regression with semiconductor device I/V plot\n",
    "\n",
    "The dataset is a plot of current variation of a device based on the voltage applied. The output is non linear in nature. We have to predict current based on voltage with non linear regression. \n",
    "\n",
    "### Perform the following operations:\n",
    "\n",
    "1. Plot the voltage vs current. What degree of polynomial do you think is this?\n",
    "2. Split the data into training & testing. It should be a 70:30 split with random_state 2. Obtain polynomial features for training and testing dataset with degree 2. \n",
    "3. Perform linear regression on the transformed training dataset. Plot the polynomial curve obtained along with training data set. Does it properly fit or overfit?\n",
    "4. Predict the output for test dataset, and plot a scatter of test output vs obtained output. Obtain MSE and R^2 score. \n",
    "\n",
    "### Vary the degree from 2 to 10. For which values of degree does the data start to overfit? Plot the training dataset and obtained curve for each degree and justify.\n"
   ]
  },
  {
   "cell_type": "code",
   "execution_count": 1,
   "metadata": {},
   "outputs": [],
   "source": [
    "import pandas as pd\n",
    "from sklearn.preprocessing import PolynomialFeatures\n",
    "from sklearn.model_selection import train_test_split\n",
    "from sklearn.linear_model import LinearRegression"
   ]
  },
  {
   "cell_type": "code",
   "execution_count": 2,
   "metadata": {},
   "outputs": [
    {
     "data": {
      "text/html": [
       "<div>\n",
       "<style scoped>\n",
       "    .dataframe tbody tr th:only-of-type {\n",
       "        vertical-align: middle;\n",
       "    }\n",
       "\n",
       "    .dataframe tbody tr th {\n",
       "        vertical-align: top;\n",
       "    }\n",
       "\n",
       "    .dataframe thead th {\n",
       "        text-align: right;\n",
       "    }\n",
       "</style>\n",
       "<table border=\"1\" class=\"dataframe\">\n",
       "  <thead>\n",
       "    <tr style=\"text-align: right;\">\n",
       "      <th></th>\n",
       "      <th>voltage</th>\n",
       "      <th>current</th>\n",
       "    </tr>\n",
       "  </thead>\n",
       "  <tbody>\n",
       "    <tr>\n",
       "      <th>0</th>\n",
       "      <td>-1.25</td>\n",
       "      <td>-3.164730</td>\n",
       "    </tr>\n",
       "    <tr>\n",
       "      <th>1</th>\n",
       "      <td>-1.20</td>\n",
       "      <td>-2.346773</td>\n",
       "    </tr>\n",
       "    <tr>\n",
       "      <th>2</th>\n",
       "      <td>-1.15</td>\n",
       "      <td>-1.305936</td>\n",
       "    </tr>\n",
       "    <tr>\n",
       "      <th>3</th>\n",
       "      <td>-1.10</td>\n",
       "      <td>-1.891162</td>\n",
       "    </tr>\n",
       "    <tr>\n",
       "      <th>4</th>\n",
       "      <td>-1.05</td>\n",
       "      <td>-1.040983</td>\n",
       "    </tr>\n",
       "  </tbody>\n",
       "</table>\n",
       "</div>"
      ],
      "text/plain": [
       "   voltage   current\n",
       "0    -1.25 -3.164730\n",
       "1    -1.20 -2.346773\n",
       "2    -1.15 -1.305936\n",
       "3    -1.10 -1.891162\n",
       "4    -1.05 -1.040983"
      ]
     },
     "execution_count": 2,
     "metadata": {},
     "output_type": "execute_result"
    }
   ],
   "source": [
    "df = pd.read_csv('data.csv')\n",
    "(df.head())"
   ]
  },
  {
   "cell_type": "code",
   "execution_count": 11,
   "metadata": {},
   "outputs": [
    {
     "data": {
      "image/png": "[encoded data removed]",
      "text/plain": [
       "<Figure size 432x288 with 1 Axes>"
      ]
     },
     "metadata": {},
     "output_type": "display_data"
    }
   ],
   "source": [
    "import matplotlib.pyplot as plt\n",
    "x=df['voltage']\n",
    "y=df['current']\n",
    "plt.figure()\n",
    "plt.plot(x,y,'bo')\n",
    "plt.title('voltage vs current')\n",
    "plt.xlabel(\"voltage\")\n",
    "plt.ylabel(\"current\")\n",
    "plt.grid()"
   ]
  },
  {
   "cell_type": "code",
   "execution_count": 4,
   "metadata": {},
   "outputs": [
    {
     "data": {
      "image/png": "[encoded data removed]",
      "text/plain": [
       "<Figure size 720x360 with 1 Axes>"
      ]
     },
     "metadata": {},
     "output_type": "display_data"
    }
   ],
   "source": [
    "#split the data into training & testing. It should be a 70:30 split with random_state 2. \n",
    "from sklearn.model_selection import train_test_split\n",
    "x_train,x_test,y_train,y_test=train_test_split(x,y,test_size=0.3,random_state=2)\n",
    "plt.figure(figsize=(10,5))\n",
    "\n",
    "plt.title('voltage vs current')\n",
    "plt.xlabel(\"voltage\")\n",
    "plt.ylabel(\"current\")\n",
    "plt.scatter(x_train,y_train,color='g')\n",
    "plt.scatter(x_test,y_test,color='b')\n",
    "#plt.axis([-2,3,-5,10])\n",
    "plt.grid(True)"
   ]
  },
  {
   "cell_type": "code",
   "execution_count": 5,
   "metadata": {},
   "outputs": [
    {
     "data": {
      "text/plain": [
       "array([[ 1.00000000e+00, -1.25000000e+00,  1.56250000e+00,\n",
       "        -1.95312500e+00,  2.44140625e+00],\n",
       "       [ 1.00000000e+00, -1.20000000e+00,  1.44000000e+00,\n",
       "        -1.72800000e+00,  2.07360000e+00],\n",
       "       [ 1.00000000e+00, -1.15000000e+00,  1.32250000e+00,\n",
       "        -1.52087500e+00,  1.74900625e+00],\n",
       "       [ 1.00000000e+00, -1.10000000e+00,  1.21000000e+00,\n",
       "        -1.33100000e+00,  1.46410000e+00],\n",
       "       [ 1.00000000e+00, -1.05000000e+00,  1.10250000e+00,\n",
       "        -1.15762500e+00,  1.21550625e+00],\n",
       "       [ 1.00000000e+00, -1.00000000e+00,  1.00000000e+00,\n",
       "        -1.00000000e+00,  1.00000000e+00],\n",
       "       [ 1.00000000e+00, -9.50000000e-01,  9.02500000e-01,\n",
       "        -8.57375000e-01,  8.14506250e-01],\n",
       "       [ 1.00000000e+00, -9.00000000e-01,  8.10000000e-01,\n",
       "        -7.29000000e-01,  6.56100000e-01],\n",
       "       [ 1.00000000e+00, -8.50000000e-01,  7.22500000e-01,\n",
       "        -6.14125000e-01,  5.22006250e-01],\n",
       "       [ 1.00000000e+00, -8.00000000e-01,  6.40000000e-01,\n",
       "        -5.12000000e-01,  4.09600000e-01],\n",
       "       [ 1.00000000e+00, -7.50000000e-01,  5.62500000e-01,\n",
       "        -4.21875000e-01,  3.16406250e-01],\n",
       "       [ 1.00000000e+00, -7.00000000e-01,  4.90000000e-01,\n",
       "        -3.43000000e-01,  2.40100000e-01],\n",
       "       [ 1.00000000e+00, -6.50000000e-01,  4.22500000e-01,\n",
       "        -2.74625000e-01,  1.78506250e-01],\n",
       "       [ 1.00000000e+00, -6.00000000e-01,  3.60000000e-01,\n",
       "        -2.16000000e-01,  1.29600000e-01],\n",
       "       [ 1.00000000e+00, -5.50000000e-01,  3.02500000e-01,\n",
       "        -1.66375000e-01,  9.15062500e-02],\n",
       "       [ 1.00000000e+00, -5.00000000e-01,  2.50000000e-01,\n",
       "        -1.25000000e-01,  6.25000000e-02],\n",
       "       [ 1.00000000e+00, -4.50000000e-01,  2.02500000e-01,\n",
       "        -9.11250000e-02,  4.10062500e-02],\n",
       "       [ 1.00000000e+00, -4.00000000e-01,  1.60000000e-01,\n",
       "        -6.40000000e-02,  2.56000000e-02],\n",
       "       [ 1.00000000e+00, -3.50000000e-01,  1.22500000e-01,\n",
       "        -4.28750000e-02,  1.50062500e-02],\n",
       "       [ 1.00000000e+00, -3.00000000e-01,  9.00000000e-02,\n",
       "        -2.70000000e-02,  8.10000000e-03],\n",
       "       [ 1.00000000e+00, -2.50000000e-01,  6.25000000e-02,\n",
       "        -1.56250000e-02,  3.90625000e-03],\n",
       "       [ 1.00000000e+00, -2.00000000e-01,  4.00000000e-02,\n",
       "        -8.00000000e-03,  1.60000000e-03],\n",
       "       [ 1.00000000e+00, -1.50000000e-01,  2.25000000e-02,\n",
       "        -3.37500000e-03,  5.06250000e-04],\n",
       "       [ 1.00000000e+00, -1.00000000e-01,  1.00000000e-02,\n",
       "        -1.00000000e-03,  1.00000000e-04],\n",
       "       [ 1.00000000e+00, -5.00000000e-02,  2.50000000e-03,\n",
       "        -1.25000000e-04,  6.25000000e-06],\n",
       "       [ 1.00000000e+00,  0.00000000e+00,  0.00000000e+00,\n",
       "         0.00000000e+00,  0.00000000e+00],\n",
       "       [ 1.00000000e+00,  5.00000000e-02,  2.50000000e-03,\n",
       "         1.25000000e-04,  6.25000000e-06],\n",
       "       [ 1.00000000e+00,  1.00000000e-01,  1.00000000e-02,\n",
       "         1.00000000e-03,  1.00000000e-04],\n",
       "       [ 1.00000000e+00,  1.50000000e-01,  2.25000000e-02,\n",
       "         3.37500000e-03,  5.06250000e-04],\n",
       "       [ 1.00000000e+00,  2.00000000e-01,  4.00000000e-02,\n",
       "         8.00000000e-03,  1.60000000e-03],\n",
       "       [ 1.00000000e+00,  2.50000000e-01,  6.25000000e-02,\n",
       "         1.56250000e-02,  3.90625000e-03],\n",
       "       [ 1.00000000e+00,  3.00000000e-01,  9.00000000e-02,\n",
       "         2.70000000e-02,  8.10000000e-03],\n",
       "       [ 1.00000000e+00,  3.50000000e-01,  1.22500000e-01,\n",
       "         4.28750000e-02,  1.50062500e-02],\n",
       "       [ 1.00000000e+00,  4.00000000e-01,  1.60000000e-01,\n",
       "         6.40000000e-02,  2.56000000e-02],\n",
       "       [ 1.00000000e+00,  4.50000000e-01,  2.02500000e-01,\n",
       "         9.11250000e-02,  4.10062500e-02],\n",
       "       [ 1.00000000e+00,  5.00000000e-01,  2.50000000e-01,\n",
       "         1.25000000e-01,  6.25000000e-02],\n",
       "       [ 1.00000000e+00,  5.50000000e-01,  3.02500000e-01,\n",
       "         1.66375000e-01,  9.15062500e-02],\n",
       "       [ 1.00000000e+00,  6.00000000e-01,  3.60000000e-01,\n",
       "         2.16000000e-01,  1.29600000e-01],\n",
       "       [ 1.00000000e+00,  6.50000000e-01,  4.22500000e-01,\n",
       "         2.74625000e-01,  1.78506250e-01],\n",
       "       [ 1.00000000e+00,  7.00000000e-01,  4.90000000e-01,\n",
       "         3.43000000e-01,  2.40100000e-01],\n",
       "       [ 1.00000000e+00,  7.50000000e-01,  5.62500000e-01,\n",
       "         4.21875000e-01,  3.16406250e-01],\n",
       "       [ 1.00000000e+00,  8.00000000e-01,  6.40000000e-01,\n",
       "         5.12000000e-01,  4.09600000e-01],\n",
       "       [ 1.00000000e+00,  8.50000000e-01,  7.22500000e-01,\n",
       "         6.14125000e-01,  5.22006250e-01],\n",
       "       [ 1.00000000e+00,  9.00000000e-01,  8.10000000e-01,\n",
       "         7.29000000e-01,  6.56100000e-01],\n",
       "       [ 1.00000000e+00,  9.50000000e-01,  9.02500000e-01,\n",
       "         8.57375000e-01,  8.14506250e-01],\n",
       "       [ 1.00000000e+00,  1.00000000e+00,  1.00000000e+00,\n",
       "         1.00000000e+00,  1.00000000e+00],\n",
       "       [ 1.00000000e+00,  1.05000000e+00,  1.10250000e+00,\n",
       "         1.15762500e+00,  1.21550625e+00],\n",
       "       [ 1.00000000e+00,  1.10000000e+00,  1.21000000e+00,\n",
       "         1.33100000e+00,  1.46410000e+00],\n",
       "       [ 1.00000000e+00,  1.15000000e+00,  1.32250000e+00,\n",
       "         1.52087500e+00,  1.74900625e+00],\n",
       "       [ 1.00000000e+00,  1.20000000e+00,  1.44000000e+00,\n",
       "         1.72800000e+00,  2.07360000e+00],\n",
       "       [ 1.00000000e+00,  1.25000000e+00,  1.56250000e+00,\n",
       "         1.95312500e+00,  2.44140625e+00],\n",
       "       [ 1.00000000e+00,  1.30000000e+00,  1.69000000e+00,\n",
       "         2.19700000e+00,  2.85610000e+00],\n",
       "       [ 1.00000000e+00,  1.35000000e+00,  1.82250000e+00,\n",
       "         2.46037500e+00,  3.32150625e+00],\n",
       "       [ 1.00000000e+00,  1.40000000e+00,  1.96000000e+00,\n",
       "         2.74400000e+00,  3.84160000e+00],\n",
       "       [ 1.00000000e+00,  1.45000000e+00,  2.10250000e+00,\n",
       "         3.04862500e+00,  4.42050625e+00],\n",
       "       [ 1.00000000e+00,  1.50000000e+00,  2.25000000e+00,\n",
       "         3.37500000e+00,  5.06250000e+00],\n",
       "       [ 1.00000000e+00,  1.55000000e+00,  2.40250000e+00,\n",
       "         3.72387500e+00,  5.77200625e+00],\n",
       "       [ 1.00000000e+00,  1.60000000e+00,  2.56000000e+00,\n",
       "         4.09600000e+00,  6.55360000e+00],\n",
       "       [ 1.00000000e+00,  1.65000000e+00,  2.72250000e+00,\n",
       "         4.49212500e+00,  7.41200625e+00],\n",
       "       [ 1.00000000e+00,  1.70000000e+00,  2.89000000e+00,\n",
       "         4.91300000e+00,  8.35210000e+00],\n",
       "       [ 1.00000000e+00,  1.75000000e+00,  3.06250000e+00,\n",
       "         5.35937500e+00,  9.37890625e+00],\n",
       "       [ 1.00000000e+00,  1.80000000e+00,  3.24000000e+00,\n",
       "         5.83200000e+00,  1.04976000e+01],\n",
       "       [ 1.00000000e+00,  1.85000000e+00,  3.42250000e+00,\n",
       "         6.33162500e+00,  1.17135063e+01],\n",
       "       [ 1.00000000e+00,  1.90000000e+00,  3.61000000e+00,\n",
       "         6.85900000e+00,  1.30321000e+01],\n",
       "       [ 1.00000000e+00,  1.95000000e+00,  3.80250000e+00,\n",
       "         7.41487500e+00,  1.44590062e+01],\n",
       "       [ 1.00000000e+00,  2.00000000e+00,  4.00000000e+00,\n",
       "         8.00000000e+00,  1.60000000e+01],\n",
       "       [ 1.00000000e+00,  2.05000000e+00,  4.20250000e+00,\n",
       "         8.61512500e+00,  1.76610062e+01],\n",
       "       [ 1.00000000e+00,  2.10000000e+00,  4.41000000e+00,\n",
       "         9.26100000e+00,  1.94481000e+01],\n",
       "       [ 1.00000000e+00,  2.15000000e+00,  4.62250000e+00,\n",
       "         9.93837500e+00,  2.13675062e+01]])"
      ]
     },
     "execution_count": 5,
     "metadata": {},
     "output_type": "execute_result"
    }
   ],
   "source": [
    "import numpy as np\n",
    "from sklearn.preprocessing import PolynomialFeatures\n",
    "from sklearn.linear_model import LinearRegression\n",
    "\n",
    "poly=PolynomialFeatures(degree=4)\n",
    "QuadraticCoeff=poly.fit_transform(x.values.reshape(-1,1))\n",
    "QuadraticCoeff\n"
   ]
  },
  {
   "cell_type": "code",
   "execution_count": 6,
   "metadata": {},
   "outputs": [
    {
     "data": {
      "image/png": "[encoded data removed]",
      "text/plain": [
       "<Figure size 432x288 with 1 Axes>"
      ]
     },
     "metadata": {},
     "output_type": "display_data"
    }
   ],
   "source": [
    "Pmodel=LinearRegression()\n",
    "Pmodel.fit(QuadraticCoeff,y)\n",
    "\n",
    "\n",
    "xx=np.linspace(-2,3,100).reshape(-1,1)\n",
    "xx_quadratic= poly.fit_transform(xx)\n",
    "\n",
    "plt.axis([-2,3,-5,10])\n",
    "plt.grid()\n",
    "plt.plot(xx,Pmodel.predict(xx_quadratic),c='r',linestyle='--')\n",
    "plt.scatter(x,y)\n",
    "plt.show()"
   ]
  },
  {
   "cell_type": "code",
   "execution_count": 7,
   "metadata": {},
   "outputs": [
    {
     "name": "stdout",
     "output_type": "stream",
     "text": [
      "Expected:-3.164730011,predicted:-2.665971104341403\n",
      "Expected:-2.346773348,predicted:-2.3190283144465917\n",
      "Expected:-1.305936053,predicted:-2.0063784502790205\n",
      "Expected:-1.891161742,predicted:-1.7259196431653523\n",
      "Expected:-1.040983282,predicted:-1.475600221110888\n",
      "Expected:-1.468561566,predicted:-1.2534187087995787\n",
      "Expected:-0.836265755,predicted:-1.0574238275940173\n",
      "Expected:-0.7060683990000001,predicted:-0.8857144955354415\n",
      "Expected:-0.565332976,predicted:-0.7364398273437314\n",
      "Expected:-1.488503284,predicted:-0.6077991344174138\n",
      "Expected:-0.6714746559999999,predicted:-0.49804192483365756\n",
      "Expected:-0.581898154,predicted:-0.40546790334827676\n",
      "Expected:0.034007664,predicted:-0.32842697139573\n",
      "Expected:-0.34526394299999996,predicted:-0.2653192270891187\n",
      "Expected:-0.624779004,predicted:-0.21459496522018975\n",
      "Expected:0.210056865,predicted:-0.17475467725933336\n",
      "Expected:-0.7500315409999999,predicted:-0.14434905135558437\n",
      "Expected:0.511142716,predicted:-0.12197897233662161\n",
      "Expected:0.374613205,predicted:-0.10629552170876805\n",
      "Expected:-0.387190793,predicted:-0.09599997765699089\n",
      "Expected:0.772275688,predicted:-0.08984381504490144\n",
      "Expected:0.21261413199999998,predicted:-0.08662870541475519\n",
      "Expected:-0.538719178,predicted:-0.08520651698745178\n",
      "Expected:-0.456034261,predicted:-0.08447931466253504\n",
      "Expected:-0.855777186,predicted:-0.08339936001819294\n",
      "Expected:-0.770900994,predicted:-0.08096911131125761\n",
      "Expected:0.495113532,predicted:-0.07624122347720536\n",
      "Expected:-0.7412998740000001,predicted:-0.0683185481301566\n",
      "Expected:0.134684368,predicted:-0.05635413356287601\n",
      "Expected:-0.223752299,predicted:-0.039551224746772314\n",
      "Expected:0.423879193,predicted:-0.017163263331898507\n",
      "Expected:0.446070019,predicted:0.011506112353048353\n",
      "Expected:0.33612426799999995,predicted:0.04710306730072697\n",
      "Expected:-0.354231444,predicted:0.090223569825152\n",
      "Expected:0.27794936,predicted:0.14141339156169375\n",
      "Expected:0.9323663440000001,predicted:0.20116810746707847\n",
      "Expected:1.221430353,predicted:0.26993309581938846\n",
      "Expected:0.408997525,predicted:0.3481035382180613\n",
      "Expected:0.45275131799999996,predicted:0.43602441958389104\n",
      "Expected:0.17427703,predicted:0.533990528159027\n",
      "Expected:0.553203511,predicted:0.6422464555069751\n",
      "Expected:0.16297797,predicted:0.7609865965125966\n",
      "Expected:0.1672026,predicted:0.8903551493821078\n",
      "Expected:0.881266002,predicted:1.0304461156430824\n",
      "Expected:0.513322564,predicted:1.181303300144449\n",
      "Expected:1.728249804,predicted:1.3429203110564927\n",
      "Expected:2.000632869,predicted:1.5152405598708536\n",
      "Expected:2.150938456,predicted:1.6981572614005276\n",
      "Expected:2.740402281,predicted:1.8915134337798667\n",
      "Expected:2.125738504,predicted:2.0951018984645806\n",
      "Expected:2.024268955,predicted:2.3086652802317307\n",
      "Expected:2.150836638,predicted:2.531896007179739\n",
      "Expected:3.407731954,predicted:2.7644363107283803\n",
      "Expected:1.61946965,predicted:3.005878225618784\n",
      "Expected:3.48417154,predicted:3.2557635899134407\n",
      "Expected:2.695660348,predicted:3.5135840449961897\n",
      "Expected:2.779707512,predicted:3.7787810355722335\n",
      "Expected:5.266017302,predicted:4.050745809668125\n",
      "Expected:2.9895762930000003,predicted:4.328819418631773\n",
      "Expected:5.056035875,predicted:4.612292717132448\n",
      "Expected:6.311777205,predicted:4.900406363160767\n",
      "Expected:7.011222861,predicted:5.1923508180287135\n",
      "Expected:4.18889345,predicted:5.48726634636962\n",
      "Expected:5.723608839,predicted:5.784243016138171\n",
      "Expected:7.454594734,predicted:6.08232069861042\n",
      "Expected:5.514608196,predicted:6.380489068383764\n",
      "Expected:5.669419658,predicted:6.677687603376958\n",
      "Expected:6.826437332999999,predicted:6.972805584830122\n",
      "Expected:7.663116071,predicted:7.264682097304719\n"
     ]
    }
   ],
   "source": [
    "for i in range(len(y)):\n",
    "    print(\"Expected:{0},predicted:{1}\".format(y[i],(Pmodel.predict(QuadraticCoeff)[i])))\n",
    "          "
   ]
  },
  {
   "cell_type": "code",
   "execution_count": 8,
   "metadata": {},
   "outputs": [
    {
     "data": {
      "image/png": "[encoded data removed]",
      "text/plain": [
       "<Figure size 720x360 with 1 Axes>"
      ]
     },
     "metadata": {},
     "output_type": "display_data"
    }
   ],
   "source": [
    "#Predict the output for test dataset, and plot a scatter of test output vs obtained output.\n",
    "plt.figure(figsize=(10,5))\n",
    "\n",
    "plt.title('voltage vs current')\n",
    "plt.xlabel(\"voltage\")\n",
    "plt.ylabel(\"current\")\n",
    "plt.scatter(y,Pmodel.predict(QuadraticCoeff),color='b')\n",
    "plt.axis([-2,8,-5,10])\n",
    "plt.grid(True)"
   ]
  },
  {
   "cell_type": "code",
   "execution_count": 14,
   "metadata": {},
   "outputs": [
    {
     "name": "stdout",
     "output_type": "stream",
     "text": [
      "MSE 0.43592474769493367\n"
     ]
    }
   ],
   "source": [
    "#Obtain MSE and R^2 score\n",
    "from sklearn.metrics import mean_squared_error\n",
    "mse=mean_squared_error(y,Pmodel.predict(QuadraticCoeff),multioutput='uniform_average')\n",
    "print(\"MSE\",mse)"
   ]
  },
  {
   "cell_type": "code",
   "execution_count": 13,
   "metadata": {},
   "outputs": [
    {
     "data": {
      "text/plain": [
       "0.9299753978974236"
      ]
     },
     "execution_count": 13,
     "metadata": {},
     "output_type": "execute_result"
    }
   ],
   "source": [
    "from sklearn.metrics import r2_score\n",
    "Pmodel.score(QuadraticCoeff,y)"
   ]
  },
  {
   "cell_type": "code",
   "execution_count": null,
   "metadata": {},
   "outputs": [],
   "source": []
  }
 ],
 "metadata": {
  "kernelspec": {
   "display_name": "Python 3",
   "language": "python",
   "name": "python3"
  },
  "language_info": {
   "codemirror_mode": {
    "name": "ipython",
    "version": 3
   },
   "file_extension": ".py",
   "mimetype": "text/x-python",
   "name": "python",
   "nbconvert_exporter": "python",
   "pygments_lexer": "ipython3",
   "version": "3.6.5"
  }
 },
 "nbformat": 4,
 "nbformat_minor": 2
}
