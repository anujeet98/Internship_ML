{
 "cells": [
  {
   "cell_type": "markdown",
   "metadata": {},
   "source": [
    "# Question 3 - Clustering Analysis\n",
    "\n",
    "The data contains two columns x1 & x2 on which clustering has to be performed.  \n",
    "\n",
    "## Task\n",
    "Perform Clustering on the data and find out cluster properties\n",
    "\n",
    "## Mark Distribution\n",
    "1. Data Visualization of x1 vs x2 with proper labels and axes\n",
    "2. Kmeans clustering and visualization of clusters with proper labelling and axes\n",
    "3. Mean distance of each cluster from the centroid\n",
    "4. Sum of Square Error (from the mean distance of the cluster) for every cluster\n",
    "5. One line in every cluster from the centroid to the point having maximum distance "
   ]
  },
  {
   "cell_type": "code",
   "execution_count": 2,
   "metadata": {},
   "outputs": [],
   "source": [
    "import matplotlib.pyplot as plt\n",
    "from sklearn.cluster import KMeans\n",
    "import numpy as np"
   ]
  },
  {
   "cell_type": "code",
   "execution_count": 4,
   "metadata": {},
   "outputs": [
    {
     "data": {
      "text/html": [
       "<div>\n",
       "<style scoped>\n",
       "    .dataframe tbody tr th:only-of-type {\n",
       "        vertical-align: middle;\n",
       "    }\n",
       "\n",
       "    .dataframe tbody tr th {\n",
       "        vertical-align: top;\n",
       "    }\n",
       "\n",
       "    .dataframe thead th {\n",
       "        text-align: right;\n",
       "    }\n",
       "</style>\n",
       "<table border=\"1\" class=\"dataframe\">\n",
       "  <thead>\n",
       "    <tr style=\"text-align: right;\">\n",
       "      <th></th>\n",
       "      <th>x1</th>\n",
       "      <th>x2</th>\n",
       "    </tr>\n",
       "  </thead>\n",
       "  <tbody>\n",
       "    <tr>\n",
       "      <th>0</th>\n",
       "      <td>3.5</td>\n",
       "      <td>0.2</td>\n",
       "    </tr>\n",
       "    <tr>\n",
       "      <th>1</th>\n",
       "      <td>3.0</td>\n",
       "      <td>0.2</td>\n",
       "    </tr>\n",
       "    <tr>\n",
       "      <th>2</th>\n",
       "      <td>3.2</td>\n",
       "      <td>0.2</td>\n",
       "    </tr>\n",
       "    <tr>\n",
       "      <th>3</th>\n",
       "      <td>3.1</td>\n",
       "      <td>0.2</td>\n",
       "    </tr>\n",
       "    <tr>\n",
       "      <th>4</th>\n",
       "      <td>3.6</td>\n",
       "      <td>0.2</td>\n",
       "    </tr>\n",
       "    <tr>\n",
       "      <th>5</th>\n",
       "      <td>3.9</td>\n",
       "      <td>0.4</td>\n",
       "    </tr>\n",
       "    <tr>\n",
       "      <th>6</th>\n",
       "      <td>3.4</td>\n",
       "      <td>0.3</td>\n",
       "    </tr>\n",
       "    <tr>\n",
       "      <th>7</th>\n",
       "      <td>3.4</td>\n",
       "      <td>0.2</td>\n",
       "    </tr>\n",
       "    <tr>\n",
       "      <th>8</th>\n",
       "      <td>2.9</td>\n",
       "      <td>0.2</td>\n",
       "    </tr>\n",
       "    <tr>\n",
       "      <th>9</th>\n",
       "      <td>3.1</td>\n",
       "      <td>0.1</td>\n",
       "    </tr>\n",
       "    <tr>\n",
       "      <th>10</th>\n",
       "      <td>3.7</td>\n",
       "      <td>0.2</td>\n",
       "    </tr>\n",
       "    <tr>\n",
       "      <th>11</th>\n",
       "      <td>3.4</td>\n",
       "      <td>0.2</td>\n",
       "    </tr>\n",
       "  </tbody>\n",
       "</table>\n",
       "</div>"
      ],
      "text/plain": [
       "     x1   x2\n",
       "0   3.5  0.2\n",
       "1   3.0  0.2\n",
       "2   3.2  0.2\n",
       "3   3.1  0.2\n",
       "4   3.6  0.2\n",
       "5   3.9  0.4\n",
       "6   3.4  0.3\n",
       "7   3.4  0.2\n",
       "8   2.9  0.2\n",
       "9   3.1  0.1\n",
       "10  3.7  0.2\n",
       "11  3.4  0.2"
      ]
     },
     "execution_count": 4,
     "metadata": {},
     "output_type": "execute_result"
    }
   ],
   "source": [
    "import pandas as pd\n",
    "df = pd.read_csv('./data/clustering data.csv')\n",
    "df.head(12)"
   ]
  },
  {
   "cell_type": "code",
   "execution_count": 5,
   "metadata": {},
   "outputs": [
    {
     "data": {
      "image/png": "[encoded data removed]",
      "text/plain": [
       "<Figure size 432x288 with 1 Axes>"
      ]
     },
     "metadata": {},
     "output_type": "display_data"
    }
   ],
   "source": [
    "#Data Visualization of x1 vs x2 with proper labels and axes\n",
    "import matplotlib.pyplot as plt\n",
    "plt.scatter(df['x1'],df['x2'],color='r',marker='o',label='x1 vs x2')\n",
    "plt.xlabel('x1')\n",
    "plt.ylabel('x2')\n",
    "plt.legend()\n",
    "plt.grid()"
   ]
  },
  {
   "cell_type": "code",
   "execution_count": 6,
   "metadata": {},
   "outputs": [],
   "source": [
    "kmeans=KMeans(n_clusters=2,init='random')"
   ]
  },
  {
   "cell_type": "code",
   "execution_count": 7,
   "metadata": {},
   "outputs": [
    {
     "name": "stdout",
     "output_type": "stream",
     "text": [
      "clusters are: [[3.418 0.244]\n",
      " [2.872 1.676]]\n",
      "[0 0 0 0 0 0 0 0 0 0 0 0 0 0 0 0 0 0 0 0 0 0 0 0 0 0 0 0 0 0 0 0 0 0 0 0 0\n",
      " 0 0 0 0 0 0 0 0 0 0 0 0 0 1 1 1 1 1 1 1 1 1 1 1 1 1 1 1 1 1 1 1 1 1 1 1 1\n",
      " 1 1 1 1 1 1 1 1 1 1 1 1 1 1 1 1 1 1 1 1 1 1 1 1 1 1 1 1 1 1 1 1 1 1 1 1 1\n",
      " 1 1 1 1 1 1 1 1 1 1 1 1 1 1 1 1 1 1 1 1 1 1 1 1 1 1 1 1 1 1 1 1 1 1 1 1 1\n",
      " 1 1]\n",
      "36.501\n"
     ]
    },
    {
     "data": {
      "text/plain": [
       "array([0])"
      ]
     },
     "execution_count": 7,
     "metadata": {},
     "output_type": "execute_result"
    }
   ],
   "source": [
    "model=kmeans.fit(df)\n",
    "y_means=model.predict(df)\n",
    "c=kmeans.cluster_centers_\n",
    "print('clusters are:',c)\n",
    "print(y_means)\n",
    "print(model.inertia_)\n",
    "model.predict([[4,0.2]])"
   ]
  },
  {
   "cell_type": "code",
   "execution_count": 8,
   "metadata": {},
   "outputs": [
    {
     "data": {
      "text/plain": [
       "Text(0,0.5,'x2')"
      ]
     },
     "execution_count": 8,
     "metadata": {},
     "output_type": "execute_result"
    },
    {
     "data": {
      "image/png": "[encoded data removed]",
      "text/plain": [
       "<Figure size 432x288 with 1 Axes>"
      ]
     },
     "metadata": {},
     "output_type": "display_data"
    }
   ],
   "source": [
    "plt.scatter(df['x1'],df['x2'],c=y_means,s=50,cmap='Set1')\n",
    "plt.grid()\n",
    "plt.scatter(kmeans.cluster_centers_[:,0],kmeans.cluster_centers_[:,1],c='black',s=200)\n",
    "plt.xlabel('x1')\n",
    "plt.ylabel('x2')"
   ]
  },
  {
   "cell_type": "code",
   "execution_count": 9,
   "metadata": {},
   "outputs": [
    {
     "data": {
      "text/plain": [
       "0.3164973377229503"
      ]
     },
     "execution_count": 9,
     "metadata": {},
     "output_type": "execute_result"
    }
   ],
   "source": [
    "#Mean distance of each cluster from the centroid\n",
    "c1_centroid=c[0]\n",
    "c2_centroid=c[1]\n",
    "\n",
    "cluster1_points=df[y_means==0]\n",
    "cluster2_points=df[y_means==1]\n",
    "\n",
    "import numpy as np\n",
    "\n",
    "c1_distances=cluster1_points.apply(lambda x:np.sqrt((x[0]-c1_centroid[0])**2 +(x[1]-c1_centroid[1])**2),axis=1)\n",
    "c2_distances=cluster2_points.apply(lambda x:np.sqrt((x[0]-c2_centroid[0])**2 +(x[1]-c2_centroid[1])**2),axis=1)\n",
    "\n",
    "c1_distances.mean()"
   ]
  },
  {
   "cell_type": "code",
   "execution_count": 10,
   "metadata": {},
   "outputs": [
    {
     "data": {
      "text/plain": [
       "0.4790063238808089"
      ]
     },
     "execution_count": 10,
     "metadata": {},
     "output_type": "execute_result"
    }
   ],
   "source": [
    "c2_distances.mean()"
   ]
  },
  {
   "cell_type": "code",
   "execution_count": 12,
   "metadata": {},
   "outputs": [
    {
     "data": {
      "text/plain": [
       "50     0.428672\n",
       "51     0.372236\n",
       "52     0.288028\n",
       "53     0.684514\n",
       "54     0.190158\n",
       "55     0.382832\n",
       "56     0.434695\n",
       "57     0.824476\n",
       "58     0.377041\n",
       "59     0.325208\n",
       "60     1.103340\n",
       "61     0.217624\n",
       "62     0.953184\n",
       "63     0.277417\n",
       "64     0.377041\n",
       "65     0.357994\n",
       "66     0.217624\n",
       "67     0.697539\n",
       "68     0.694665\n",
       "69     0.685682\n",
       "70     0.350657\n",
       "71     0.382832\n",
       "72     0.411534\n",
       "73     0.481415\n",
       "74     0.377041\n",
       "75     0.304237\n",
       "76     0.285237\n",
       "77     0.130231\n",
       "78     0.178213\n",
       "79     0.728670\n",
       "         ...   \n",
       "120    0.704954\n",
       "121    0.331904\n",
       "122    0.331904\n",
       "123    0.212038\n",
       "124    0.602462\n",
       "125    0.350657\n",
       "126    0.143388\n",
       "127    0.178213\n",
       "128    0.430070\n",
       "129    0.148862\n",
       "130    0.235287\n",
       "131    0.982934\n",
       "132    0.528923\n",
       "133    0.190158\n",
       "134    0.387505\n",
       "135    0.636993\n",
       "136    0.896080\n",
       "137    0.259538\n",
       "138    0.178213\n",
       "139    0.481415\n",
       "140    0.759052\n",
       "141    0.664349\n",
       "142    0.282418\n",
       "143    0.704954\n",
       "144    0.928526\n",
       "145    0.636993\n",
       "146    0.434235\n",
       "147    0.348368\n",
       "148    0.817411\n",
       "149    0.178213\n",
       "Length: 100, dtype: float64"
      ]
     },
     "execution_count": 12,
     "metadata": {},
     "output_type": "execute_result"
    }
   ],
   "source": [
    "#Sum of Square Error (from the mean distance of the cluster) for every cluster\n",
    "l=c1_distances.mean()\n",
    "m=c2_distances.mean()\n",
    "c1_x=c1_distances.apply(lambda x:(x-l)**2)\n",
    "c1_x.sum()\n",
    "\n",
    "c2_distances\n"
   ]
  },
  {
   "cell_type": "code",
   "execution_count": 105,
   "metadata": {},
   "outputs": [
    {
     "data": {
      "text/plain": [
       "2.6684717607142363"
      ]
     },
     "execution_count": 105,
     "metadata": {},
     "output_type": "execute_result"
    }
   ],
   "source": [
    "c2_y=c2_distances.apply(lambda y:(y-m)**2)\n",
    "c2_y.sum()"
   ]
  },
  {
   "cell_type": "code",
   "execution_count": 106,
   "metadata": {},
   "outputs": [
    {
     "name": "stdout",
     "output_type": "stream",
     "text": [
      "1.1033403826562318\n",
      "1.1194016258698218\n"
     ]
    }
   ],
   "source": [
    "#One line in every cluster from the centroid to the point having maximum distance\n",
    "print(c1_distances.max())\n",
    "print(c2_distances.max())\n",
    "p=[3.418,2.3]\n",
    "p1=[2.872,2]\n",
    "q=[0.244,0.3]\n",
    "q1=[1.676,1]\n",
    "\n"
   ]
  },
  {
   "cell_type": "code",
   "execution_count": 107,
   "metadata": {},
   "outputs": [
    {
     "name": "stdout",
     "output_type": "stream",
     "text": [
      "1.1194016258698218\n",
      "41\n"
     ]
    },
    {
     "data": {
      "text/plain": [
       "x1    2.3\n",
       "x2    0.3\n",
       "Name: 41, dtype: float64"
      ]
     },
     "execution_count": 107,
     "metadata": {},
     "output_type": "execute_result"
    }
   ],
   "source": [
    "f=c2_distances.max()\n",
    "print(f) \n",
    "c=0\n",
    "for i in c2_distances:\n",
    "    if(i==f):\n",
    "        print(c)\n",
    "        break\n",
    "    c=c+1       \n",
    "cluster2_points.iloc[41,:]    "
   ]
  },
  {
   "cell_type": "code",
   "execution_count": 108,
   "metadata": {},
   "outputs": [
    {
     "data": {
      "text/plain": [
       "Text(0,0.5,'x2')"
      ]
     },
     "execution_count": 108,
     "metadata": {},
     "output_type": "execute_result"
    },
    {
     "data": {
      "image/png": "[encoded data removed]",
      "text/plain": [
       "<Figure size 432x288 with 1 Axes>"
      ]
     },
     "metadata": {},
     "output_type": "display_data"
    }
   ],
   "source": [
    "plt.scatter(df['x1'],df['x2'],c=y_means,s=50,cmap='Set1')\n",
    "plt.grid()\n",
    "plt.scatter(kmeans.cluster_centers_[:,0],kmeans.cluster_centers_[:,1],c='black',s=200)\n",
    "plt.plot(p,q,color='b',linestyle='-')\n",
    "plt.plot(p1,q1,color='b',linestyle='-')\n",
    "plt.xlabel('x1')\n",
    "plt.ylabel('x2')"
   ]
  },
  {
   "cell_type": "code",
   "execution_count": null,
   "metadata": {},
   "outputs": [],
   "source": []
  },
  {
   "cell_type": "code",
   "execution_count": null,
   "metadata": {},
   "outputs": [],
   "source": []
  }
 ],
 "metadata": {
  "kernelspec": {
   "display_name": "Python 3",
   "language": "python",
   "name": "python3"
  },
  "language_info": {
   "codemirror_mode": {
    "name": "ipython",
    "version": 3
   },
   "file_extension": ".py",
   "mimetype": "text/x-python",
   "name": "python",
   "nbconvert_exporter": "python",
   "pygments_lexer": "ipython3",
   "version": "3.6.5"
  }
 },
 "nbformat": 4,
 "nbformat_minor": 2
}
