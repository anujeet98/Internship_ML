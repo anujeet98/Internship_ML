{
 "cells": [
  {
   "cell_type": "markdown",
   "metadata": {},
   "source": [
    "# Homework - Data Classification with SVM\n",
    "\n",
    "### ------Read the Question thoroughly before proceeeding ahead--------\n",
    "\n",
    "df contains two columns x1 & x2 which is classified into 3 labels 0, 1 and 2. We have to apply SVM on this data to classify this data. Inputs are x1 & x2 and output class labels are in y.\n",
    "\n",
    "### Perform the following operations:\n",
    "1. Plot a scatter plot of x1 vs x2. Three colors for 3 different labels with labelling and legends. \n",
    "2. Bar Chart of number of rows of each class.\n",
    "3. Split the dataset using train test split with a 70:30 split. Make the split such that (with trials) there are approximately equal number of rows of each class in the training dataset. \n",
    "4. Fit and predict data for the test dataset. \n",
    "5. Get the separation of SVM using meshgrid approach.\n",
    "6. Obtain the confusion matrix for the test dataset. Find out the total number of correct predictions, and incorrect predictions. Which class has the most misclassified data? "
   ]
  },
  {
   "cell_type": "code",
   "execution_count": 1,
   "metadata": {},
   "outputs": [],
   "source": [
    "#-------------Do not touch anything here------------------------------------\n",
    "from sklearn.datasets import make_blobs\n",
    "import pandas as pd\n",
    "\n",
    "X, y = make_blobs(n_samples=200, centers=3, random_state=3236, cluster_std=4)\n",
    "df = pd.DataFrame(data={'x1':X[:, 0], 'x2':X[:, 1], 'y':y})\n",
    "#-------------Do not touch anything here------------------------------------"
   ]
  },
  {
   "cell_type": "code",
   "execution_count": 2,
   "metadata": {},
   "outputs": [
    {
     "data": {
      "text/html": [
       "<div>\n",
       "<style scoped>\n",
       "    .dataframe tbody tr th:only-of-type {\n",
       "        vertical-align: middle;\n",
       "    }\n",
       "\n",
       "    .dataframe tbody tr th {\n",
       "        vertical-align: top;\n",
       "    }\n",
       "\n",
       "    .dataframe thead th {\n",
       "        text-align: right;\n",
       "    }\n",
       "</style>\n",
       "<table border=\"1\" class=\"dataframe\">\n",
       "  <thead>\n",
       "    <tr style=\"text-align: right;\">\n",
       "      <th></th>\n",
       "      <th>x1</th>\n",
       "      <th>x2</th>\n",
       "      <th>y</th>\n",
       "    </tr>\n",
       "  </thead>\n",
       "  <tbody>\n",
       "    <tr>\n",
       "      <th>0</th>\n",
       "      <td>-10.930146</td>\n",
       "      <td>-6.753578</td>\n",
       "      <td>1</td>\n",
       "    </tr>\n",
       "    <tr>\n",
       "      <th>1</th>\n",
       "      <td>1.210435</td>\n",
       "      <td>5.300878</td>\n",
       "      <td>2</td>\n",
       "    </tr>\n",
       "    <tr>\n",
       "      <th>2</th>\n",
       "      <td>2.665303</td>\n",
       "      <td>2.216286</td>\n",
       "      <td>2</td>\n",
       "    </tr>\n",
       "    <tr>\n",
       "      <th>3</th>\n",
       "      <td>7.645781</td>\n",
       "      <td>-2.244924</td>\n",
       "      <td>0</td>\n",
       "    </tr>\n",
       "    <tr>\n",
       "      <th>4</th>\n",
       "      <td>1.336352</td>\n",
       "      <td>-1.625267</td>\n",
       "      <td>2</td>\n",
       "    </tr>\n",
       "  </tbody>\n",
       "</table>\n",
       "</div>"
      ],
      "text/plain": [
       "          x1        x2  y\n",
       "0 -10.930146 -6.753578  1\n",
       "1   1.210435  5.300878  2\n",
       "2   2.665303  2.216286  2\n",
       "3   7.645781 -2.244924  0\n",
       "4   1.336352 -1.625267  2"
      ]
     },
     "execution_count": 2,
     "metadata": {},
     "output_type": "execute_result"
    }
   ],
   "source": [
    "df.head()"
   ]
  },
  {
   "cell_type": "code",
   "execution_count": 12,
   "metadata": {},
   "outputs": [
    {
     "data": {
      "image/png": "[encoded data removed]",
      "text/plain": [
       "<Figure size 432x288 with 1 Axes>"
      ]
     },
     "metadata": {},
     "output_type": "display_data"
    }
   ],
   "source": [
    "#Plot a scatter plot of x1 vs x2. Three colors for 3 different labels with labelling and legends\n",
    "import matplotlib.pyplot as plt\n",
    "y0=df[df['y']==0]\n",
    "y1=df[df['y']==1]\n",
    "y2=df[df['y']==2]\n",
    "plt.scatter(y0['x1'],y0['x2'],color='r',label='y=0')\n",
    "plt.scatter(y1['x1'],y1['x2'],color='b',label='y=1')\n",
    "plt.scatter(y2['x1'],y2['x2'],color='g',label='y=2')\n",
    "plt.xlabel('x1')\n",
    "plt.ylabel('x2')\n",
    "plt.legend()\n",
    "plt.axis()\n",
    "plt.grid()"
   ]
  },
  {
   "cell_type": "code",
   "execution_count": 4,
   "metadata": {},
   "outputs": [
    {
     "data": {
      "text/plain": [
       "<matplotlib.axes._subplots.AxesSubplot at 0x209f2456da0>"
      ]
     },
     "execution_count": 4,
     "metadata": {},
     "output_type": "execute_result"
    },
    {
     "data": {
      "image/png": "[encoded data removed]",
      "text/plain": [
       "<Figure size 432x288 with 1 Axes>"
      ]
     },
     "metadata": {},
     "output_type": "display_data"
    }
   ],
   "source": [
    "#Bar Chart of number of rows of each class.\n",
    "df['y'].value_counts().plot(kind='bar')"
   ]
  },
  {
   "cell_type": "code",
   "execution_count": 5,
   "metadata": {},
   "outputs": [
    {
     "data": {
      "image/png": "[encoded data removed]",
      "text/plain": [
       "<Figure size 432x288 with 1 Axes>"
      ]
     },
     "metadata": {},
     "output_type": "display_data"
    }
   ],
   "source": [
    "#Split the dataset using train test split with a 70:30 split. Make the split such that (with trials) there are approximately equal number of rows of each class in the training dataset.\n",
    "from sklearn.model_selection import train_test_split\n",
    "\n",
    "x_train,x_test,y_train,y_test=train_test_split(df[['x1','x2']],df['y'],test_size=0.3,random_state=3)\n",
    "plt.figure()\n",
    "y_train.value_counts().plot(kind='bar')\n",
    "plt.grid()"
   ]
  },
  {
   "cell_type": "code",
   "execution_count": 6,
   "metadata": {},
   "outputs": [
    {
     "data": {
      "text/plain": [
       "array([1, 0, 0, 0, 0, 1, 1, 0, 0, 1, 1, 2, 2, 0, 0, 1, 2, 0, 2, 0, 0, 2,\n",
       "       2, 1, 1, 0, 0, 0, 0, 2, 0, 2, 1, 1, 2, 0, 0, 1, 1, 0, 0, 1, 2, 2,\n",
       "       1, 2, 0, 2, 0, 2, 0, 1, 1, 1, 1, 0, 1, 1, 2, 1])"
      ]
     },
     "execution_count": 6,
     "metadata": {},
     "output_type": "execute_result"
    }
   ],
   "source": [
    "#Fit and predict data for the test dataset.\n",
    "from sklearn.svm import SVC\n",
    "SVCClassifier=SVC(kernel='linear',C=10)\n",
    "SVCModel=SVCClassifier.fit(x_train,y_train)\n",
    "SVCModel.predict(x_test)"
   ]
  },
  {
   "cell_type": "code",
   "execution_count": 7,
   "metadata": {},
   "outputs": [
    {
     "name": "stdout",
     "output_type": "stream",
     "text": [
      "[[-20.   -19.99 -19.98 ...  14.97  14.98  14.99]\n",
      " [-20.   -19.99 -19.98 ...  14.97  14.98  14.99]\n",
      " [-20.   -19.99 -19.98 ...  14.97  14.98  14.99]\n",
      " ...\n",
      " [-20.   -19.99 -19.98 ...  14.97  14.98  14.99]\n",
      " [-20.   -19.99 -19.98 ...  14.97  14.98  14.99]\n",
      " [-20.   -19.99 -19.98 ...  14.97  14.98  14.99]]\n",
      "[[-16.   -16.   -16.   ... -16.   -16.   -16.  ]\n",
      " [-15.99 -15.99 -15.99 ... -15.99 -15.99 -15.99]\n",
      " [-15.98 -15.98 -15.98 ... -15.98 -15.98 -15.98]\n",
      " ...\n",
      " [ 11.97  11.97  11.97 ...  11.97  11.97  11.97]\n",
      " [ 11.98  11.98  11.98 ...  11.98  11.98  11.98]\n",
      " [ 11.99  11.99  11.99 ...  11.99  11.99  11.99]]\n",
      "[-20.   -19.99 -19.98 -19.97 -19.96 -19.95 -19.94 -19.93 -19.92 -19.91]\n",
      "[-16. -16. -16. -16. -16. -16. -16. -16. -16. -16.]\n",
      "[[-20.   -16.  ]\n",
      " [-19.99 -16.  ]\n",
      " [-19.98 -16.  ]\n",
      " [-19.97 -16.  ]\n",
      " [-19.96 -16.  ]\n",
      " [-19.95 -16.  ]\n",
      " [-19.94 -16.  ]\n",
      " [-19.93 -16.  ]\n",
      " [-19.92 -16.  ]\n",
      " [-19.91 -16.  ]\n",
      " [-19.9  -16.  ]\n",
      " [-19.89 -16.  ]\n",
      " [-19.88 -16.  ]\n",
      " [-19.87 -16.  ]\n",
      " [-19.86 -16.  ]\n",
      " [-19.85 -16.  ]\n",
      " [-19.84 -16.  ]\n",
      " [-19.83 -16.  ]\n",
      " [-19.82 -16.  ]\n",
      " [-19.81 -16.  ]]\n",
      "[1 1 1 ... 0 0 0]\n",
      "[[1 1 1 ... 0 0 0]\n",
      " [1 1 1 ... 0 0 0]\n",
      " [1 1 1 ... 0 0 0]\n",
      " ...\n",
      " [1 1 1 ... 0 0 0]\n",
      " [1 1 1 ... 0 0 0]\n",
      " [1 1 1 ... 0 0 0]]\n"
     ]
    },
    {
     "data": {
      "text/plain": [
       "<Figure size 1440x1440 with 0 Axes>"
      ]
     },
     "metadata": {},
     "output_type": "display_data"
    },
    {
     "data": {
      "image/png": "[encoded data removed]",
      "text/plain": [
       "<Figure size 432x288 with 1 Axes>"
      ]
     },
     "metadata": {},
     "output_type": "display_data"
    }
   ],
   "source": [
    "#Get the separation of SVM using meshgrid approach.\n",
    "import numpy as np\n",
    "\n",
    "plt.figure(figsize=(20,20)) \n",
    "\n",
    "x_min,x_max=-20,15#minimum x/y is 0 and maximum x/y is1\n",
    "y_min,y_max=-16,12\n",
    "\n",
    "xx,yy=np.meshgrid(np.arange(x_min,x_max, .01),np.arange(y_min,y_max, .01))\n",
    "\n",
    "print(xx); print(yy);\n",
    "xx_lin=xx.ravel(); print(xx_lin[:10]);\n",
    "yy_lin=yy.ravel(); print(yy_lin[:10]); \n",
    "pred_input=np.c_[xx_lin,yy_lin];print(pred_input[:20])\n",
    "\n",
    "z=SVCModel.predict(pred_input);print(z)\n",
    "z=z.reshape(xx.shape);print(z)\n",
    "plt.figure()\n",
    "plt.contourf(xx,yy,z,cmap=plt.cm.Pastel1)\n",
    "\n",
    "\n",
    "plt.scatter(y0['x1'],y0['x2'],color='r',label='y=0')\n",
    "plt.scatter(y1['x1'],y1['x2'],color='b',label='y=1')\n",
    "plt.scatter(y2['x1'],y2['x2'],color='g',label='y=2')\n",
    "plt.xlabel('x1')\n",
    "plt.ylabel('x2')\n",
    "plt.axis()\n",
    "plt.grid()"
   ]
  },
  {
   "cell_type": "code",
   "execution_count": 8,
   "metadata": {},
   "outputs": [
    {
     "name": "stdout",
     "output_type": "stream",
     "text": [
      "[[20  0  0]\n",
      " [ 1 18  2]\n",
      " [ 3  3 13]]\n"
     ]
    }
   ],
   "source": [
    "from sklearn import metrics\n",
    "b=metrics.confusion_matrix(y_test,SVCModel.predict(x_test))\n",
    "print(b)"
   ]
  },
  {
   "cell_type": "code",
   "execution_count": 9,
   "metadata": {},
   "outputs": [],
   "source": [
    "a=np.sum(metrics.confusion_matrix(y_test,SVCModel.predict(x_test)), axis=1)"
   ]
  },
  {
   "cell_type": "code",
   "execution_count": 10,
   "metadata": {},
   "outputs": [
    {
     "name": "stdout",
     "output_type": "stream",
     "text": [
      "[0, 3, 6]\n",
      "[20, 18, 13]\n",
      "no. of incorrect classification 9\n",
      "no. of correct classification 51\n"
     ]
    }
   ],
   "source": [
    "l=[]\n",
    "x=[]\n",
    "for i in range(0,3):\n",
    "    l.append(a[i]-b[i][i])\n",
    "    x.append(b[i][i])\n",
    "print(l) \n",
    "print(x)\n",
    "print('no. of incorrect classification',np.sum(l,axis=0))\n",
    "print('no. of correct classification',np.sum(x,axis=0))"
   ]
  },
  {
   "cell_type": "code",
   "execution_count": 11,
   "metadata": {},
   "outputs": [
    {
     "data": {
      "image/png": "[encoded data removed]",
      "text/plain": [
       "<Figure size 432x288 with 2 Axes>"
      ]
     },
     "metadata": {},
     "output_type": "display_data"
    }
   ],
   "source": [
    "import seaborn as sp\n",
    "sp.heatmap(metrics.confusion_matrix(y_test,SVCModel.predict(x_test)),annot=True)\n",
    "new=x_train.join(y_train)"
   ]
  },
  {
   "cell_type": "code",
   "execution_count": null,
   "metadata": {},
   "outputs": [],
   "source": []
  },
  {
   "cell_type": "code",
   "execution_count": null,
   "metadata": {},
   "outputs": [],
   "source": []
  }
 ],
 "metadata": {
  "kernelspec": {
   "display_name": "Python 3",
   "language": "python",
   "name": "python3"
  },
  "language_info": {
   "codemirror_mode": {
    "name": "ipython",
    "version": 3
   },
   "file_extension": ".py",
   "mimetype": "text/x-python",
   "name": "python",
   "nbconvert_exporter": "python",
   "pygments_lexer": "ipython3",
   "version": "3.6.5"
  }
 },
 "nbformat": 4,
 "nbformat_minor": 2
}
